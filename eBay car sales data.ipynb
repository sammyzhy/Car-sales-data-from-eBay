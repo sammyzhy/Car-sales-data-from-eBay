{
 "cells": [
  {
   "cell_type": "markdown",
   "metadata": {},
   "source": [
    "## Analyzing data of used cars from eBay"
   ]
  },
  {
   "cell_type": "markdown",
   "metadata": {
    "collapsed": true
   },
   "source": [
    "In this project, we'll work with a dataset of used cars from eBay Kleinanzeigen, a classifieds section of the German eBay website. The dataset was originally scraped and uploaded to Kaggle. \n",
    "\n",
    "The data dictionary provided with data is as follows:\n",
    "\n",
    "   + dateCrawled - When this ad was first crawled. All field-values are taken from this date.\n",
    "   + name - Name of the car.\n",
    "   + seller - Whether the seller is private or a dealer.\n",
    "   + offerType - The type of listing\n",
    "   + price - The price on the ad to sell the car.\n",
    "   + abtest - Whether the listing is included in an A/B test.\n",
    "   + vehicleType - The vehicle Type.\n",
    "   + yearOfRegistration - The year in which the car was first registered.\n",
    "   + gearbox - The transmission type.\n",
    "   + powerPS - The power of the car in PS.\n",
    "   + model - The car model name.\n",
    "   + kilometer - How many kilometers the car has driven.\n",
    "   + monthOfRegistration - The month in which the car was first registered.\n",
    "   + fuelType - What type of fuel the car uses.\n",
    "   + brand - The brand of the car.\n",
    "   + notRepairedDamage - If the car has a damage which is not yet repaired.\n",
    "   + dateCreated - The date on which the eBay listing was created.\n",
    "   + nrOfPictures - The number of pictures in the ad.\n",
    "   + postalCode - The postal code for the location of the vehicle.\n",
    "   + lastSeenOnline - When the crawler saw this ad last online.\n",
    "\n",
    "The aim of this project is to clean the data and analyze the included used car listings. "
   ]
  },
  {
   "cell_type": "markdown",
   "metadata": {},
   "source": [
    "Let's start by importing the libraries we need and reading the dataset into pandas. "
   ]
  },
  {
   "cell_type": "code",
   "execution_count": 1,
   "metadata": {
    "collapsed": false
   },
   "outputs": [],
   "source": [
    "import pandas as pd\n",
    "import numpy as np\n",
    "autos = pd.read_csv(\"autos.csv\", encoding = \"Latin-1\")"
   ]
  },
  {
   "cell_type": "markdown",
   "metadata": {},
   "source": [
    "Print information about the autos dataframe, as well as the first few rows. We begin the analysis from column names of the dataframe. "
   ]
  },
  {
   "cell_type": "code",
   "execution_count": 2,
   "metadata": {
    "collapsed": false
   },
   "outputs": [
    {
     "name": "stdout",
     "output_type": "stream",
     "text": [
      "<class 'pandas.core.frame.DataFrame'>\n",
      "RangeIndex: 50000 entries, 0 to 49999\n",
      "Data columns (total 20 columns):\n",
      "dateCrawled            50000 non-null object\n",
      "name                   50000 non-null object\n",
      "seller                 50000 non-null object\n",
      "offerType              50000 non-null object\n",
      "price                  50000 non-null object\n",
      "abtest                 50000 non-null object\n",
      "vehicleType            44905 non-null object\n",
      "yearOfRegistration     50000 non-null int64\n",
      "gearbox                47320 non-null object\n",
      "powerPS                50000 non-null int64\n",
      "model                  47242 non-null object\n",
      "odometer               50000 non-null object\n",
      "monthOfRegistration    50000 non-null int64\n",
      "fuelType               45518 non-null object\n",
      "brand                  50000 non-null object\n",
      "notRepairedDamage      40171 non-null object\n",
      "dateCreated            50000 non-null object\n",
      "nrOfPictures           50000 non-null int64\n",
      "postalCode             50000 non-null int64\n",
      "lastSeen               50000 non-null object\n",
      "dtypes: int64(5), object(15)\n",
      "memory usage: 7.6+ MB\n"
     ]
    },
    {
     "data": {
      "text/html": [
       "<div>\n",
       "<style scoped>\n",
       "    .dataframe tbody tr th:only-of-type {\n",
       "        vertical-align: middle;\n",
       "    }\n",
       "\n",
       "    .dataframe tbody tr th {\n",
       "        vertical-align: top;\n",
       "    }\n",
       "\n",
       "    .dataframe thead th {\n",
       "        text-align: right;\n",
       "    }\n",
       "</style>\n",
       "<table border=\"1\" class=\"dataframe\">\n",
       "  <thead>\n",
       "    <tr style=\"text-align: right;\">\n",
       "      <th></th>\n",
       "      <th>dateCrawled</th>\n",
       "      <th>name</th>\n",
       "      <th>seller</th>\n",
       "      <th>offerType</th>\n",
       "      <th>price</th>\n",
       "      <th>abtest</th>\n",
       "      <th>vehicleType</th>\n",
       "      <th>yearOfRegistration</th>\n",
       "      <th>gearbox</th>\n",
       "      <th>powerPS</th>\n",
       "      <th>model</th>\n",
       "      <th>odometer</th>\n",
       "      <th>monthOfRegistration</th>\n",
       "      <th>fuelType</th>\n",
       "      <th>brand</th>\n",
       "      <th>notRepairedDamage</th>\n",
       "      <th>dateCreated</th>\n",
       "      <th>nrOfPictures</th>\n",
       "      <th>postalCode</th>\n",
       "      <th>lastSeen</th>\n",
       "    </tr>\n",
       "  </thead>\n",
       "  <tbody>\n",
       "    <tr>\n",
       "      <th>0</th>\n",
       "      <td>2016-03-26 17:47:46</td>\n",
       "      <td>Peugeot_807_160_NAVTECH_ON_BOARD</td>\n",
       "      <td>privat</td>\n",
       "      <td>Angebot</td>\n",
       "      <td>$5,000</td>\n",
       "      <td>control</td>\n",
       "      <td>bus</td>\n",
       "      <td>2004</td>\n",
       "      <td>manuell</td>\n",
       "      <td>158</td>\n",
       "      <td>andere</td>\n",
       "      <td>150,000km</td>\n",
       "      <td>3</td>\n",
       "      <td>lpg</td>\n",
       "      <td>peugeot</td>\n",
       "      <td>nein</td>\n",
       "      <td>2016-03-26 00:00:00</td>\n",
       "      <td>0</td>\n",
       "      <td>79588</td>\n",
       "      <td>2016-04-06 06:45:54</td>\n",
       "    </tr>\n",
       "    <tr>\n",
       "      <th>1</th>\n",
       "      <td>2016-04-04 13:38:56</td>\n",
       "      <td>BMW_740i_4_4_Liter_HAMANN_UMBAU_Mega_Optik</td>\n",
       "      <td>privat</td>\n",
       "      <td>Angebot</td>\n",
       "      <td>$8,500</td>\n",
       "      <td>control</td>\n",
       "      <td>limousine</td>\n",
       "      <td>1997</td>\n",
       "      <td>automatik</td>\n",
       "      <td>286</td>\n",
       "      <td>7er</td>\n",
       "      <td>150,000km</td>\n",
       "      <td>6</td>\n",
       "      <td>benzin</td>\n",
       "      <td>bmw</td>\n",
       "      <td>nein</td>\n",
       "      <td>2016-04-04 00:00:00</td>\n",
       "      <td>0</td>\n",
       "      <td>71034</td>\n",
       "      <td>2016-04-06 14:45:08</td>\n",
       "    </tr>\n",
       "    <tr>\n",
       "      <th>2</th>\n",
       "      <td>2016-03-26 18:57:24</td>\n",
       "      <td>Volkswagen_Golf_1.6_United</td>\n",
       "      <td>privat</td>\n",
       "      <td>Angebot</td>\n",
       "      <td>$8,990</td>\n",
       "      <td>test</td>\n",
       "      <td>limousine</td>\n",
       "      <td>2009</td>\n",
       "      <td>manuell</td>\n",
       "      <td>102</td>\n",
       "      <td>golf</td>\n",
       "      <td>70,000km</td>\n",
       "      <td>7</td>\n",
       "      <td>benzin</td>\n",
       "      <td>volkswagen</td>\n",
       "      <td>nein</td>\n",
       "      <td>2016-03-26 00:00:00</td>\n",
       "      <td>0</td>\n",
       "      <td>35394</td>\n",
       "      <td>2016-04-06 20:15:37</td>\n",
       "    </tr>\n",
       "    <tr>\n",
       "      <th>3</th>\n",
       "      <td>2016-03-12 16:58:10</td>\n",
       "      <td>Smart_smart_fortwo_coupe_softouch/F1/Klima/Pan...</td>\n",
       "      <td>privat</td>\n",
       "      <td>Angebot</td>\n",
       "      <td>$4,350</td>\n",
       "      <td>control</td>\n",
       "      <td>kleinwagen</td>\n",
       "      <td>2007</td>\n",
       "      <td>automatik</td>\n",
       "      <td>71</td>\n",
       "      <td>fortwo</td>\n",
       "      <td>70,000km</td>\n",
       "      <td>6</td>\n",
       "      <td>benzin</td>\n",
       "      <td>smart</td>\n",
       "      <td>nein</td>\n",
       "      <td>2016-03-12 00:00:00</td>\n",
       "      <td>0</td>\n",
       "      <td>33729</td>\n",
       "      <td>2016-03-15 03:16:28</td>\n",
       "    </tr>\n",
       "    <tr>\n",
       "      <th>4</th>\n",
       "      <td>2016-04-01 14:38:50</td>\n",
       "      <td>Ford_Focus_1_6_Benzin_TÜV_neu_ist_sehr_gepfleg...</td>\n",
       "      <td>privat</td>\n",
       "      <td>Angebot</td>\n",
       "      <td>$1,350</td>\n",
       "      <td>test</td>\n",
       "      <td>kombi</td>\n",
       "      <td>2003</td>\n",
       "      <td>manuell</td>\n",
       "      <td>0</td>\n",
       "      <td>focus</td>\n",
       "      <td>150,000km</td>\n",
       "      <td>7</td>\n",
       "      <td>benzin</td>\n",
       "      <td>ford</td>\n",
       "      <td>nein</td>\n",
       "      <td>2016-04-01 00:00:00</td>\n",
       "      <td>0</td>\n",
       "      <td>39218</td>\n",
       "      <td>2016-04-01 14:38:50</td>\n",
       "    </tr>\n",
       "  </tbody>\n",
       "</table>\n",
       "</div>"
      ],
      "text/plain": [
       "           dateCrawled                                               name  \\\n",
       "0  2016-03-26 17:47:46                   Peugeot_807_160_NAVTECH_ON_BOARD   \n",
       "1  2016-04-04 13:38:56         BMW_740i_4_4_Liter_HAMANN_UMBAU_Mega_Optik   \n",
       "2  2016-03-26 18:57:24                         Volkswagen_Golf_1.6_United   \n",
       "3  2016-03-12 16:58:10  Smart_smart_fortwo_coupe_softouch/F1/Klima/Pan...   \n",
       "4  2016-04-01 14:38:50  Ford_Focus_1_6_Benzin_TÜV_neu_ist_sehr_gepfleg...   \n",
       "\n",
       "   seller offerType   price   abtest vehicleType  yearOfRegistration  \\\n",
       "0  privat   Angebot  $5,000  control         bus                2004   \n",
       "1  privat   Angebot  $8,500  control   limousine                1997   \n",
       "2  privat   Angebot  $8,990     test   limousine                2009   \n",
       "3  privat   Angebot  $4,350  control  kleinwagen                2007   \n",
       "4  privat   Angebot  $1,350     test       kombi                2003   \n",
       "\n",
       "     gearbox  powerPS   model   odometer  monthOfRegistration fuelType  \\\n",
       "0    manuell      158  andere  150,000km                    3      lpg   \n",
       "1  automatik      286     7er  150,000km                    6   benzin   \n",
       "2    manuell      102    golf   70,000km                    7   benzin   \n",
       "3  automatik       71  fortwo   70,000km                    6   benzin   \n",
       "4    manuell        0   focus  150,000km                    7   benzin   \n",
       "\n",
       "        brand notRepairedDamage          dateCreated  nrOfPictures  \\\n",
       "0     peugeot              nein  2016-03-26 00:00:00             0   \n",
       "1         bmw              nein  2016-04-04 00:00:00             0   \n",
       "2  volkswagen              nein  2016-03-26 00:00:00             0   \n",
       "3       smart              nein  2016-03-12 00:00:00             0   \n",
       "4        ford              nein  2016-04-01 00:00:00             0   \n",
       "\n",
       "   postalCode             lastSeen  \n",
       "0       79588  2016-04-06 06:45:54  \n",
       "1       71034  2016-04-06 14:45:08  \n",
       "2       35394  2016-04-06 20:15:37  \n",
       "3       33729  2016-03-15 03:16:28  \n",
       "4       39218  2016-04-01 14:38:50  "
      ]
     },
     "execution_count": 2,
     "metadata": {},
     "output_type": "execute_result"
    }
   ],
   "source": [
    "autos.info()\n",
    "autos.head()"
   ]
  },
  {
   "cell_type": "markdown",
   "metadata": {},
   "source": [
    "According to the information above, we can make the following observations:\n",
    "1. The dataset contains 20 columns, and 15 columns are strings.\n",
    "2. Some of the columns have null values, but the percentages of null values are less than 20%.\n",
    "3. The column names use camelcase instead of snakecase."
   ]
  },
  {
   "cell_type": "markdown",
   "metadata": {},
   "source": [
    "## Cleaning column names"
   ]
  },
  {
   "cell_type": "markdown",
   "metadata": {},
   "source": [
    "Next, we will convert the column name from camelcase to snakecase, and rewrite some of the column names to be more descriptive."
   ]
  },
  {
   "cell_type": "code",
   "execution_count": 3,
   "metadata": {
    "collapsed": false
   },
   "outputs": [
    {
     "name": "stdout",
     "output_type": "stream",
     "text": [
      "Index(['dateCrawled', 'name', 'seller', 'offerType', 'price', 'abtest',\n",
      "       'vehicleType', 'yearOfRegistration', 'gearbox', 'powerPS', 'model',\n",
      "       'odometer', 'monthOfRegistration', 'fuelType', 'brand',\n",
      "       'notRepairedDamage', 'dateCreated', 'nrOfPictures', 'postalCode',\n",
      "       'lastSeen'],\n",
      "      dtype='object')\n"
     ]
    }
   ],
   "source": [
    "print(autos.columns)"
   ]
  },
  {
   "cell_type": "code",
   "execution_count": 4,
   "metadata": {
    "collapsed": true
   },
   "outputs": [],
   "source": [
    "autos.columns = [\"date_crawled\", \"name\", \"seller\", \"offer_type\", \"price\", \"abtest\", \n",
    "                \"vehicle_type\", \"registration_year\", \"gearbox\", \"power_ps\", \"model\",\n",
    "                \"odometer\", \"registration_month\", \"fuel_type\", \"brand\", \"unrepaired_damage\",\n",
    "                \"ad_created\", \"nr_pictures\", \"postal_code\", \"last_seen\"]"
   ]
  },
  {
   "cell_type": "markdown",
   "metadata": {},
   "source": [
    "Let's look at the current state of the autos dataframe."
   ]
  },
  {
   "cell_type": "code",
   "execution_count": 5,
   "metadata": {
    "collapsed": false
   },
   "outputs": [
    {
     "data": {
      "text/html": [
       "<div>\n",
       "<style scoped>\n",
       "    .dataframe tbody tr th:only-of-type {\n",
       "        vertical-align: middle;\n",
       "    }\n",
       "\n",
       "    .dataframe tbody tr th {\n",
       "        vertical-align: top;\n",
       "    }\n",
       "\n",
       "    .dataframe thead th {\n",
       "        text-align: right;\n",
       "    }\n",
       "</style>\n",
       "<table border=\"1\" class=\"dataframe\">\n",
       "  <thead>\n",
       "    <tr style=\"text-align: right;\">\n",
       "      <th></th>\n",
       "      <th>date_crawled</th>\n",
       "      <th>name</th>\n",
       "      <th>seller</th>\n",
       "      <th>offer_type</th>\n",
       "      <th>price</th>\n",
       "      <th>abtest</th>\n",
       "      <th>vehicle_type</th>\n",
       "      <th>registration_year</th>\n",
       "      <th>gearbox</th>\n",
       "      <th>power_ps</th>\n",
       "      <th>model</th>\n",
       "      <th>odometer</th>\n",
       "      <th>registration_month</th>\n",
       "      <th>fuel_type</th>\n",
       "      <th>brand</th>\n",
       "      <th>unrepaired_damage</th>\n",
       "      <th>ad_created</th>\n",
       "      <th>nr_pictures</th>\n",
       "      <th>postal_code</th>\n",
       "      <th>last_seen</th>\n",
       "    </tr>\n",
       "  </thead>\n",
       "  <tbody>\n",
       "    <tr>\n",
       "      <th>0</th>\n",
       "      <td>2016-03-26 17:47:46</td>\n",
       "      <td>Peugeot_807_160_NAVTECH_ON_BOARD</td>\n",
       "      <td>privat</td>\n",
       "      <td>Angebot</td>\n",
       "      <td>$5,000</td>\n",
       "      <td>control</td>\n",
       "      <td>bus</td>\n",
       "      <td>2004</td>\n",
       "      <td>manuell</td>\n",
       "      <td>158</td>\n",
       "      <td>andere</td>\n",
       "      <td>150,000km</td>\n",
       "      <td>3</td>\n",
       "      <td>lpg</td>\n",
       "      <td>peugeot</td>\n",
       "      <td>nein</td>\n",
       "      <td>2016-03-26 00:00:00</td>\n",
       "      <td>0</td>\n",
       "      <td>79588</td>\n",
       "      <td>2016-04-06 06:45:54</td>\n",
       "    </tr>\n",
       "    <tr>\n",
       "      <th>1</th>\n",
       "      <td>2016-04-04 13:38:56</td>\n",
       "      <td>BMW_740i_4_4_Liter_HAMANN_UMBAU_Mega_Optik</td>\n",
       "      <td>privat</td>\n",
       "      <td>Angebot</td>\n",
       "      <td>$8,500</td>\n",
       "      <td>control</td>\n",
       "      <td>limousine</td>\n",
       "      <td>1997</td>\n",
       "      <td>automatik</td>\n",
       "      <td>286</td>\n",
       "      <td>7er</td>\n",
       "      <td>150,000km</td>\n",
       "      <td>6</td>\n",
       "      <td>benzin</td>\n",
       "      <td>bmw</td>\n",
       "      <td>nein</td>\n",
       "      <td>2016-04-04 00:00:00</td>\n",
       "      <td>0</td>\n",
       "      <td>71034</td>\n",
       "      <td>2016-04-06 14:45:08</td>\n",
       "    </tr>\n",
       "    <tr>\n",
       "      <th>2</th>\n",
       "      <td>2016-03-26 18:57:24</td>\n",
       "      <td>Volkswagen_Golf_1.6_United</td>\n",
       "      <td>privat</td>\n",
       "      <td>Angebot</td>\n",
       "      <td>$8,990</td>\n",
       "      <td>test</td>\n",
       "      <td>limousine</td>\n",
       "      <td>2009</td>\n",
       "      <td>manuell</td>\n",
       "      <td>102</td>\n",
       "      <td>golf</td>\n",
       "      <td>70,000km</td>\n",
       "      <td>7</td>\n",
       "      <td>benzin</td>\n",
       "      <td>volkswagen</td>\n",
       "      <td>nein</td>\n",
       "      <td>2016-03-26 00:00:00</td>\n",
       "      <td>0</td>\n",
       "      <td>35394</td>\n",
       "      <td>2016-04-06 20:15:37</td>\n",
       "    </tr>\n",
       "    <tr>\n",
       "      <th>3</th>\n",
       "      <td>2016-03-12 16:58:10</td>\n",
       "      <td>Smart_smart_fortwo_coupe_softouch/F1/Klima/Pan...</td>\n",
       "      <td>privat</td>\n",
       "      <td>Angebot</td>\n",
       "      <td>$4,350</td>\n",
       "      <td>control</td>\n",
       "      <td>kleinwagen</td>\n",
       "      <td>2007</td>\n",
       "      <td>automatik</td>\n",
       "      <td>71</td>\n",
       "      <td>fortwo</td>\n",
       "      <td>70,000km</td>\n",
       "      <td>6</td>\n",
       "      <td>benzin</td>\n",
       "      <td>smart</td>\n",
       "      <td>nein</td>\n",
       "      <td>2016-03-12 00:00:00</td>\n",
       "      <td>0</td>\n",
       "      <td>33729</td>\n",
       "      <td>2016-03-15 03:16:28</td>\n",
       "    </tr>\n",
       "    <tr>\n",
       "      <th>4</th>\n",
       "      <td>2016-04-01 14:38:50</td>\n",
       "      <td>Ford_Focus_1_6_Benzin_TÜV_neu_ist_sehr_gepfleg...</td>\n",
       "      <td>privat</td>\n",
       "      <td>Angebot</td>\n",
       "      <td>$1,350</td>\n",
       "      <td>test</td>\n",
       "      <td>kombi</td>\n",
       "      <td>2003</td>\n",
       "      <td>manuell</td>\n",
       "      <td>0</td>\n",
       "      <td>focus</td>\n",
       "      <td>150,000km</td>\n",
       "      <td>7</td>\n",
       "      <td>benzin</td>\n",
       "      <td>ford</td>\n",
       "      <td>nein</td>\n",
       "      <td>2016-04-01 00:00:00</td>\n",
       "      <td>0</td>\n",
       "      <td>39218</td>\n",
       "      <td>2016-04-01 14:38:50</td>\n",
       "    </tr>\n",
       "  </tbody>\n",
       "</table>\n",
       "</div>"
      ],
      "text/plain": [
       "          date_crawled                                               name  \\\n",
       "0  2016-03-26 17:47:46                   Peugeot_807_160_NAVTECH_ON_BOARD   \n",
       "1  2016-04-04 13:38:56         BMW_740i_4_4_Liter_HAMANN_UMBAU_Mega_Optik   \n",
       "2  2016-03-26 18:57:24                         Volkswagen_Golf_1.6_United   \n",
       "3  2016-03-12 16:58:10  Smart_smart_fortwo_coupe_softouch/F1/Klima/Pan...   \n",
       "4  2016-04-01 14:38:50  Ford_Focus_1_6_Benzin_TÜV_neu_ist_sehr_gepfleg...   \n",
       "\n",
       "   seller offer_type   price   abtest vehicle_type  registration_year  \\\n",
       "0  privat    Angebot  $5,000  control          bus               2004   \n",
       "1  privat    Angebot  $8,500  control    limousine               1997   \n",
       "2  privat    Angebot  $8,990     test    limousine               2009   \n",
       "3  privat    Angebot  $4,350  control   kleinwagen               2007   \n",
       "4  privat    Angebot  $1,350     test        kombi               2003   \n",
       "\n",
       "     gearbox  power_ps   model   odometer  registration_month fuel_type  \\\n",
       "0    manuell       158  andere  150,000km                   3       lpg   \n",
       "1  automatik       286     7er  150,000km                   6    benzin   \n",
       "2    manuell       102    golf   70,000km                   7    benzin   \n",
       "3  automatik        71  fortwo   70,000km                   6    benzin   \n",
       "4    manuell         0   focus  150,000km                   7    benzin   \n",
       "\n",
       "        brand unrepaired_damage           ad_created  nr_pictures  \\\n",
       "0     peugeot              nein  2016-03-26 00:00:00            0   \n",
       "1         bmw              nein  2016-04-04 00:00:00            0   \n",
       "2  volkswagen              nein  2016-03-26 00:00:00            0   \n",
       "3       smart              nein  2016-03-12 00:00:00            0   \n",
       "4        ford              nein  2016-04-01 00:00:00            0   \n",
       "\n",
       "   postal_code            last_seen  \n",
       "0        79588  2016-04-06 06:45:54  \n",
       "1        71034  2016-04-06 14:45:08  \n",
       "2        35394  2016-04-06 20:15:37  \n",
       "3        33729  2016-03-15 03:16:28  \n",
       "4        39218  2016-04-01 14:38:50  "
      ]
     },
     "execution_count": 5,
     "metadata": {},
     "output_type": "execute_result"
    }
   ],
   "source": [
    "autos.head()"
   ]
  },
  {
   "cell_type": "markdown",
   "metadata": {},
   "source": [
    "## Initial exploration and cleaning"
   ]
  },
  {
   "cell_type": "markdown",
   "metadata": {},
   "source": [
    "Next we will carry out some basic data exploration to determine what other cleaning tasks need to be done. First we need to take a look at descriptive statistics for all columns."
   ]
  },
  {
   "cell_type": "code",
   "execution_count": 6,
   "metadata": {
    "collapsed": false
   },
   "outputs": [
    {
     "data": {
      "text/html": [
       "<div>\n",
       "<style scoped>\n",
       "    .dataframe tbody tr th:only-of-type {\n",
       "        vertical-align: middle;\n",
       "    }\n",
       "\n",
       "    .dataframe tbody tr th {\n",
       "        vertical-align: top;\n",
       "    }\n",
       "\n",
       "    .dataframe thead th {\n",
       "        text-align: right;\n",
       "    }\n",
       "</style>\n",
       "<table border=\"1\" class=\"dataframe\">\n",
       "  <thead>\n",
       "    <tr style=\"text-align: right;\">\n",
       "      <th></th>\n",
       "      <th>date_crawled</th>\n",
       "      <th>name</th>\n",
       "      <th>seller</th>\n",
       "      <th>offer_type</th>\n",
       "      <th>price</th>\n",
       "      <th>abtest</th>\n",
       "      <th>vehicle_type</th>\n",
       "      <th>registration_year</th>\n",
       "      <th>gearbox</th>\n",
       "      <th>power_ps</th>\n",
       "      <th>model</th>\n",
       "      <th>odometer</th>\n",
       "      <th>registration_month</th>\n",
       "      <th>fuel_type</th>\n",
       "      <th>brand</th>\n",
       "      <th>unrepaired_damage</th>\n",
       "      <th>ad_created</th>\n",
       "      <th>nr_pictures</th>\n",
       "      <th>postal_code</th>\n",
       "      <th>last_seen</th>\n",
       "    </tr>\n",
       "  </thead>\n",
       "  <tbody>\n",
       "    <tr>\n",
       "      <th>count</th>\n",
       "      <td>50000</td>\n",
       "      <td>50000</td>\n",
       "      <td>50000</td>\n",
       "      <td>50000</td>\n",
       "      <td>50000</td>\n",
       "      <td>50000</td>\n",
       "      <td>44905</td>\n",
       "      <td>50000.000000</td>\n",
       "      <td>47320</td>\n",
       "      <td>50000.000000</td>\n",
       "      <td>47242</td>\n",
       "      <td>50000</td>\n",
       "      <td>50000.000000</td>\n",
       "      <td>45518</td>\n",
       "      <td>50000</td>\n",
       "      <td>40171</td>\n",
       "      <td>50000</td>\n",
       "      <td>50000.0</td>\n",
       "      <td>50000.000000</td>\n",
       "      <td>50000</td>\n",
       "    </tr>\n",
       "    <tr>\n",
       "      <th>unique</th>\n",
       "      <td>48213</td>\n",
       "      <td>38754</td>\n",
       "      <td>2</td>\n",
       "      <td>2</td>\n",
       "      <td>2357</td>\n",
       "      <td>2</td>\n",
       "      <td>8</td>\n",
       "      <td>NaN</td>\n",
       "      <td>2</td>\n",
       "      <td>NaN</td>\n",
       "      <td>245</td>\n",
       "      <td>13</td>\n",
       "      <td>NaN</td>\n",
       "      <td>7</td>\n",
       "      <td>40</td>\n",
       "      <td>2</td>\n",
       "      <td>76</td>\n",
       "      <td>NaN</td>\n",
       "      <td>NaN</td>\n",
       "      <td>39481</td>\n",
       "    </tr>\n",
       "    <tr>\n",
       "      <th>top</th>\n",
       "      <td>2016-03-23 19:38:20</td>\n",
       "      <td>Ford_Fiesta</td>\n",
       "      <td>privat</td>\n",
       "      <td>Angebot</td>\n",
       "      <td>$0</td>\n",
       "      <td>test</td>\n",
       "      <td>limousine</td>\n",
       "      <td>NaN</td>\n",
       "      <td>manuell</td>\n",
       "      <td>NaN</td>\n",
       "      <td>golf</td>\n",
       "      <td>150,000km</td>\n",
       "      <td>NaN</td>\n",
       "      <td>benzin</td>\n",
       "      <td>volkswagen</td>\n",
       "      <td>nein</td>\n",
       "      <td>2016-04-03 00:00:00</td>\n",
       "      <td>NaN</td>\n",
       "      <td>NaN</td>\n",
       "      <td>2016-04-07 06:17:27</td>\n",
       "    </tr>\n",
       "    <tr>\n",
       "      <th>freq</th>\n",
       "      <td>3</td>\n",
       "      <td>78</td>\n",
       "      <td>49999</td>\n",
       "      <td>49999</td>\n",
       "      <td>1421</td>\n",
       "      <td>25756</td>\n",
       "      <td>12859</td>\n",
       "      <td>NaN</td>\n",
       "      <td>36993</td>\n",
       "      <td>NaN</td>\n",
       "      <td>4024</td>\n",
       "      <td>32424</td>\n",
       "      <td>NaN</td>\n",
       "      <td>30107</td>\n",
       "      <td>10687</td>\n",
       "      <td>35232</td>\n",
       "      <td>1946</td>\n",
       "      <td>NaN</td>\n",
       "      <td>NaN</td>\n",
       "      <td>8</td>\n",
       "    </tr>\n",
       "    <tr>\n",
       "      <th>mean</th>\n",
       "      <td>NaN</td>\n",
       "      <td>NaN</td>\n",
       "      <td>NaN</td>\n",
       "      <td>NaN</td>\n",
       "      <td>NaN</td>\n",
       "      <td>NaN</td>\n",
       "      <td>NaN</td>\n",
       "      <td>2005.073280</td>\n",
       "      <td>NaN</td>\n",
       "      <td>116.355920</td>\n",
       "      <td>NaN</td>\n",
       "      <td>NaN</td>\n",
       "      <td>5.723360</td>\n",
       "      <td>NaN</td>\n",
       "      <td>NaN</td>\n",
       "      <td>NaN</td>\n",
       "      <td>NaN</td>\n",
       "      <td>0.0</td>\n",
       "      <td>50813.627300</td>\n",
       "      <td>NaN</td>\n",
       "    </tr>\n",
       "    <tr>\n",
       "      <th>std</th>\n",
       "      <td>NaN</td>\n",
       "      <td>NaN</td>\n",
       "      <td>NaN</td>\n",
       "      <td>NaN</td>\n",
       "      <td>NaN</td>\n",
       "      <td>NaN</td>\n",
       "      <td>NaN</td>\n",
       "      <td>105.712813</td>\n",
       "      <td>NaN</td>\n",
       "      <td>209.216627</td>\n",
       "      <td>NaN</td>\n",
       "      <td>NaN</td>\n",
       "      <td>3.711984</td>\n",
       "      <td>NaN</td>\n",
       "      <td>NaN</td>\n",
       "      <td>NaN</td>\n",
       "      <td>NaN</td>\n",
       "      <td>0.0</td>\n",
       "      <td>25779.747957</td>\n",
       "      <td>NaN</td>\n",
       "    </tr>\n",
       "    <tr>\n",
       "      <th>min</th>\n",
       "      <td>NaN</td>\n",
       "      <td>NaN</td>\n",
       "      <td>NaN</td>\n",
       "      <td>NaN</td>\n",
       "      <td>NaN</td>\n",
       "      <td>NaN</td>\n",
       "      <td>NaN</td>\n",
       "      <td>1000.000000</td>\n",
       "      <td>NaN</td>\n",
       "      <td>0.000000</td>\n",
       "      <td>NaN</td>\n",
       "      <td>NaN</td>\n",
       "      <td>0.000000</td>\n",
       "      <td>NaN</td>\n",
       "      <td>NaN</td>\n",
       "      <td>NaN</td>\n",
       "      <td>NaN</td>\n",
       "      <td>0.0</td>\n",
       "      <td>1067.000000</td>\n",
       "      <td>NaN</td>\n",
       "    </tr>\n",
       "    <tr>\n",
       "      <th>25%</th>\n",
       "      <td>NaN</td>\n",
       "      <td>NaN</td>\n",
       "      <td>NaN</td>\n",
       "      <td>NaN</td>\n",
       "      <td>NaN</td>\n",
       "      <td>NaN</td>\n",
       "      <td>NaN</td>\n",
       "      <td>1999.000000</td>\n",
       "      <td>NaN</td>\n",
       "      <td>70.000000</td>\n",
       "      <td>NaN</td>\n",
       "      <td>NaN</td>\n",
       "      <td>3.000000</td>\n",
       "      <td>NaN</td>\n",
       "      <td>NaN</td>\n",
       "      <td>NaN</td>\n",
       "      <td>NaN</td>\n",
       "      <td>0.0</td>\n",
       "      <td>30451.000000</td>\n",
       "      <td>NaN</td>\n",
       "    </tr>\n",
       "    <tr>\n",
       "      <th>50%</th>\n",
       "      <td>NaN</td>\n",
       "      <td>NaN</td>\n",
       "      <td>NaN</td>\n",
       "      <td>NaN</td>\n",
       "      <td>NaN</td>\n",
       "      <td>NaN</td>\n",
       "      <td>NaN</td>\n",
       "      <td>2003.000000</td>\n",
       "      <td>NaN</td>\n",
       "      <td>105.000000</td>\n",
       "      <td>NaN</td>\n",
       "      <td>NaN</td>\n",
       "      <td>6.000000</td>\n",
       "      <td>NaN</td>\n",
       "      <td>NaN</td>\n",
       "      <td>NaN</td>\n",
       "      <td>NaN</td>\n",
       "      <td>0.0</td>\n",
       "      <td>49577.000000</td>\n",
       "      <td>NaN</td>\n",
       "    </tr>\n",
       "    <tr>\n",
       "      <th>75%</th>\n",
       "      <td>NaN</td>\n",
       "      <td>NaN</td>\n",
       "      <td>NaN</td>\n",
       "      <td>NaN</td>\n",
       "      <td>NaN</td>\n",
       "      <td>NaN</td>\n",
       "      <td>NaN</td>\n",
       "      <td>2008.000000</td>\n",
       "      <td>NaN</td>\n",
       "      <td>150.000000</td>\n",
       "      <td>NaN</td>\n",
       "      <td>NaN</td>\n",
       "      <td>9.000000</td>\n",
       "      <td>NaN</td>\n",
       "      <td>NaN</td>\n",
       "      <td>NaN</td>\n",
       "      <td>NaN</td>\n",
       "      <td>0.0</td>\n",
       "      <td>71540.000000</td>\n",
       "      <td>NaN</td>\n",
       "    </tr>\n",
       "    <tr>\n",
       "      <th>max</th>\n",
       "      <td>NaN</td>\n",
       "      <td>NaN</td>\n",
       "      <td>NaN</td>\n",
       "      <td>NaN</td>\n",
       "      <td>NaN</td>\n",
       "      <td>NaN</td>\n",
       "      <td>NaN</td>\n",
       "      <td>9999.000000</td>\n",
       "      <td>NaN</td>\n",
       "      <td>17700.000000</td>\n",
       "      <td>NaN</td>\n",
       "      <td>NaN</td>\n",
       "      <td>12.000000</td>\n",
       "      <td>NaN</td>\n",
       "      <td>NaN</td>\n",
       "      <td>NaN</td>\n",
       "      <td>NaN</td>\n",
       "      <td>0.0</td>\n",
       "      <td>99998.000000</td>\n",
       "      <td>NaN</td>\n",
       "    </tr>\n",
       "  </tbody>\n",
       "</table>\n",
       "</div>"
      ],
      "text/plain": [
       "               date_crawled         name  seller offer_type  price abtest  \\\n",
       "count                 50000        50000   50000      50000  50000  50000   \n",
       "unique                48213        38754       2          2   2357      2   \n",
       "top     2016-03-23 19:38:20  Ford_Fiesta  privat    Angebot     $0   test   \n",
       "freq                      3           78   49999      49999   1421  25756   \n",
       "mean                    NaN          NaN     NaN        NaN    NaN    NaN   \n",
       "std                     NaN          NaN     NaN        NaN    NaN    NaN   \n",
       "min                     NaN          NaN     NaN        NaN    NaN    NaN   \n",
       "25%                     NaN          NaN     NaN        NaN    NaN    NaN   \n",
       "50%                     NaN          NaN     NaN        NaN    NaN    NaN   \n",
       "75%                     NaN          NaN     NaN        NaN    NaN    NaN   \n",
       "max                     NaN          NaN     NaN        NaN    NaN    NaN   \n",
       "\n",
       "       vehicle_type  registration_year  gearbox      power_ps  model  \\\n",
       "count         44905       50000.000000    47320  50000.000000  47242   \n",
       "unique            8                NaN        2           NaN    245   \n",
       "top       limousine                NaN  manuell           NaN   golf   \n",
       "freq          12859                NaN    36993           NaN   4024   \n",
       "mean            NaN        2005.073280      NaN    116.355920    NaN   \n",
       "std             NaN         105.712813      NaN    209.216627    NaN   \n",
       "min             NaN        1000.000000      NaN      0.000000    NaN   \n",
       "25%             NaN        1999.000000      NaN     70.000000    NaN   \n",
       "50%             NaN        2003.000000      NaN    105.000000    NaN   \n",
       "75%             NaN        2008.000000      NaN    150.000000    NaN   \n",
       "max             NaN        9999.000000      NaN  17700.000000    NaN   \n",
       "\n",
       "         odometer  registration_month fuel_type       brand unrepaired_damage  \\\n",
       "count       50000        50000.000000     45518       50000             40171   \n",
       "unique         13                 NaN         7          40                 2   \n",
       "top     150,000km                 NaN    benzin  volkswagen              nein   \n",
       "freq        32424                 NaN     30107       10687             35232   \n",
       "mean          NaN            5.723360       NaN         NaN               NaN   \n",
       "std           NaN            3.711984       NaN         NaN               NaN   \n",
       "min           NaN            0.000000       NaN         NaN               NaN   \n",
       "25%           NaN            3.000000       NaN         NaN               NaN   \n",
       "50%           NaN            6.000000       NaN         NaN               NaN   \n",
       "75%           NaN            9.000000       NaN         NaN               NaN   \n",
       "max           NaN           12.000000       NaN         NaN               NaN   \n",
       "\n",
       "                 ad_created  nr_pictures   postal_code            last_seen  \n",
       "count                 50000      50000.0  50000.000000                50000  \n",
       "unique                   76          NaN           NaN                39481  \n",
       "top     2016-04-03 00:00:00          NaN           NaN  2016-04-07 06:17:27  \n",
       "freq                   1946          NaN           NaN                    8  \n",
       "mean                    NaN          0.0  50813.627300                  NaN  \n",
       "std                     NaN          0.0  25779.747957                  NaN  \n",
       "min                     NaN          0.0   1067.000000                  NaN  \n",
       "25%                     NaN          0.0  30451.000000                  NaN  \n",
       "50%                     NaN          0.0  49577.000000                  NaN  \n",
       "75%                     NaN          0.0  71540.000000                  NaN  \n",
       "max                     NaN          0.0  99998.000000                  NaN  "
      ]
     },
     "execution_count": 6,
     "metadata": {},
     "output_type": "execute_result"
    }
   ],
   "source": [
    "autos.describe(include = 'all')"
   ]
  },
  {
   "cell_type": "code",
   "execution_count": 7,
   "metadata": {
    "collapsed": false
   },
   "outputs": [
    {
     "name": "stdout",
     "output_type": "stream",
     "text": [
      "0    50000\n",
      "Name: nr_pictures, dtype: int64\n"
     ]
    }
   ],
   "source": [
    "print(autos[\"nr_pictures\"].value_counts())"
   ]
  },
  {
   "cell_type": "code",
   "execution_count": 8,
   "metadata": {
    "collapsed": false
   },
   "outputs": [
    {
     "name": "stdout",
     "output_type": "stream",
     "text": [
      "privat        49999\n",
      "gewerblich        1\n",
      "Name: seller, dtype: int64\n"
     ]
    }
   ],
   "source": [
    "print(autos['seller'].value_counts())"
   ]
  },
  {
   "cell_type": "code",
   "execution_count": 9,
   "metadata": {
    "collapsed": false
   },
   "outputs": [
    {
     "name": "stdout",
     "output_type": "stream",
     "text": [
      "Angebot    49999\n",
      "Gesuch         1\n",
      "Name: offer_type, dtype: int64\n"
     ]
    }
   ],
   "source": [
    "print(autos['offer_type'].value_counts())"
   ]
  },
  {
   "cell_type": "markdown",
   "metadata": {},
   "source": [
    "Now we know there is only one value for column \"nr_pictures\", two unique values for both \"seller\" and \"offer_type\" columns. We need to drop them."
   ]
  },
  {
   "cell_type": "code",
   "execution_count": 10,
   "metadata": {
    "collapsed": true
   },
   "outputs": [],
   "source": [
    "autos = autos.drop(['nr_pictures','seller', 'offer_type'], axis = 1)"
   ]
  },
  {
   "cell_type": "markdown",
   "metadata": {},
   "source": [
    "The minimum value for columns \"registration_year\", \"power_ps\" and \"registration_month\" is 0, which is inaccurate. We need more investigation with these columns later.\n",
    "\n",
    "There is non-numeric data stored in columns \"price\" and \"odometer\". We need to convert those non-numeric characters to a numeric type."
   ]
  },
  {
   "cell_type": "code",
   "execution_count": 11,
   "metadata": {
    "collapsed": false
   },
   "outputs": [
    {
     "name": "stdout",
     "output_type": "stream",
     "text": [
      "['$5,000' '$8,500' '$8,990' ... '$385' '$22,200' '$16,995']\n"
     ]
    }
   ],
   "source": [
    "print(autos[\"price\"].unique())"
   ]
  },
  {
   "cell_type": "code",
   "execution_count": 12,
   "metadata": {
    "collapsed": false
   },
   "outputs": [
    {
     "data": {
      "text/html": [
       "<div>\n",
       "<style scoped>\n",
       "    .dataframe tbody tr th:only-of-type {\n",
       "        vertical-align: middle;\n",
       "    }\n",
       "\n",
       "    .dataframe tbody tr th {\n",
       "        vertical-align: top;\n",
       "    }\n",
       "\n",
       "    .dataframe thead th {\n",
       "        text-align: right;\n",
       "    }\n",
       "</style>\n",
       "<table border=\"1\" class=\"dataframe\">\n",
       "  <thead>\n",
       "    <tr style=\"text-align: right;\">\n",
       "      <th></th>\n",
       "      <th>date_crawled</th>\n",
       "      <th>name</th>\n",
       "      <th>price_usd</th>\n",
       "      <th>abtest</th>\n",
       "      <th>vehicle_type</th>\n",
       "      <th>registration_year</th>\n",
       "      <th>gearbox</th>\n",
       "      <th>power_ps</th>\n",
       "      <th>model</th>\n",
       "      <th>odometer</th>\n",
       "      <th>registration_month</th>\n",
       "      <th>fuel_type</th>\n",
       "      <th>brand</th>\n",
       "      <th>unrepaired_damage</th>\n",
       "      <th>ad_created</th>\n",
       "      <th>postal_code</th>\n",
       "      <th>last_seen</th>\n",
       "    </tr>\n",
       "  </thead>\n",
       "  <tbody>\n",
       "    <tr>\n",
       "      <th>count</th>\n",
       "      <td>50000</td>\n",
       "      <td>50000</td>\n",
       "      <td>5.000000e+04</td>\n",
       "      <td>50000</td>\n",
       "      <td>44905</td>\n",
       "      <td>50000.000000</td>\n",
       "      <td>47320</td>\n",
       "      <td>50000.000000</td>\n",
       "      <td>47242</td>\n",
       "      <td>50000</td>\n",
       "      <td>50000.000000</td>\n",
       "      <td>45518</td>\n",
       "      <td>50000</td>\n",
       "      <td>40171</td>\n",
       "      <td>50000</td>\n",
       "      <td>50000.000000</td>\n",
       "      <td>50000</td>\n",
       "    </tr>\n",
       "    <tr>\n",
       "      <th>unique</th>\n",
       "      <td>48213</td>\n",
       "      <td>38754</td>\n",
       "      <td>NaN</td>\n",
       "      <td>2</td>\n",
       "      <td>8</td>\n",
       "      <td>NaN</td>\n",
       "      <td>2</td>\n",
       "      <td>NaN</td>\n",
       "      <td>245</td>\n",
       "      <td>13</td>\n",
       "      <td>NaN</td>\n",
       "      <td>7</td>\n",
       "      <td>40</td>\n",
       "      <td>2</td>\n",
       "      <td>76</td>\n",
       "      <td>NaN</td>\n",
       "      <td>39481</td>\n",
       "    </tr>\n",
       "    <tr>\n",
       "      <th>top</th>\n",
       "      <td>2016-03-23 19:38:20</td>\n",
       "      <td>Ford_Fiesta</td>\n",
       "      <td>NaN</td>\n",
       "      <td>test</td>\n",
       "      <td>limousine</td>\n",
       "      <td>NaN</td>\n",
       "      <td>manuell</td>\n",
       "      <td>NaN</td>\n",
       "      <td>golf</td>\n",
       "      <td>150,000km</td>\n",
       "      <td>NaN</td>\n",
       "      <td>benzin</td>\n",
       "      <td>volkswagen</td>\n",
       "      <td>nein</td>\n",
       "      <td>2016-04-03 00:00:00</td>\n",
       "      <td>NaN</td>\n",
       "      <td>2016-04-07 06:17:27</td>\n",
       "    </tr>\n",
       "    <tr>\n",
       "      <th>freq</th>\n",
       "      <td>3</td>\n",
       "      <td>78</td>\n",
       "      <td>NaN</td>\n",
       "      <td>25756</td>\n",
       "      <td>12859</td>\n",
       "      <td>NaN</td>\n",
       "      <td>36993</td>\n",
       "      <td>NaN</td>\n",
       "      <td>4024</td>\n",
       "      <td>32424</td>\n",
       "      <td>NaN</td>\n",
       "      <td>30107</td>\n",
       "      <td>10687</td>\n",
       "      <td>35232</td>\n",
       "      <td>1946</td>\n",
       "      <td>NaN</td>\n",
       "      <td>8</td>\n",
       "    </tr>\n",
       "    <tr>\n",
       "      <th>mean</th>\n",
       "      <td>NaN</td>\n",
       "      <td>NaN</td>\n",
       "      <td>9.840044e+03</td>\n",
       "      <td>NaN</td>\n",
       "      <td>NaN</td>\n",
       "      <td>2005.073280</td>\n",
       "      <td>NaN</td>\n",
       "      <td>116.355920</td>\n",
       "      <td>NaN</td>\n",
       "      <td>NaN</td>\n",
       "      <td>5.723360</td>\n",
       "      <td>NaN</td>\n",
       "      <td>NaN</td>\n",
       "      <td>NaN</td>\n",
       "      <td>NaN</td>\n",
       "      <td>50813.627300</td>\n",
       "      <td>NaN</td>\n",
       "    </tr>\n",
       "    <tr>\n",
       "      <th>std</th>\n",
       "      <td>NaN</td>\n",
       "      <td>NaN</td>\n",
       "      <td>4.811044e+05</td>\n",
       "      <td>NaN</td>\n",
       "      <td>NaN</td>\n",
       "      <td>105.712813</td>\n",
       "      <td>NaN</td>\n",
       "      <td>209.216627</td>\n",
       "      <td>NaN</td>\n",
       "      <td>NaN</td>\n",
       "      <td>3.711984</td>\n",
       "      <td>NaN</td>\n",
       "      <td>NaN</td>\n",
       "      <td>NaN</td>\n",
       "      <td>NaN</td>\n",
       "      <td>25779.747957</td>\n",
       "      <td>NaN</td>\n",
       "    </tr>\n",
       "    <tr>\n",
       "      <th>min</th>\n",
       "      <td>NaN</td>\n",
       "      <td>NaN</td>\n",
       "      <td>0.000000e+00</td>\n",
       "      <td>NaN</td>\n",
       "      <td>NaN</td>\n",
       "      <td>1000.000000</td>\n",
       "      <td>NaN</td>\n",
       "      <td>0.000000</td>\n",
       "      <td>NaN</td>\n",
       "      <td>NaN</td>\n",
       "      <td>0.000000</td>\n",
       "      <td>NaN</td>\n",
       "      <td>NaN</td>\n",
       "      <td>NaN</td>\n",
       "      <td>NaN</td>\n",
       "      <td>1067.000000</td>\n",
       "      <td>NaN</td>\n",
       "    </tr>\n",
       "    <tr>\n",
       "      <th>25%</th>\n",
       "      <td>NaN</td>\n",
       "      <td>NaN</td>\n",
       "      <td>1.100000e+03</td>\n",
       "      <td>NaN</td>\n",
       "      <td>NaN</td>\n",
       "      <td>1999.000000</td>\n",
       "      <td>NaN</td>\n",
       "      <td>70.000000</td>\n",
       "      <td>NaN</td>\n",
       "      <td>NaN</td>\n",
       "      <td>3.000000</td>\n",
       "      <td>NaN</td>\n",
       "      <td>NaN</td>\n",
       "      <td>NaN</td>\n",
       "      <td>NaN</td>\n",
       "      <td>30451.000000</td>\n",
       "      <td>NaN</td>\n",
       "    </tr>\n",
       "    <tr>\n",
       "      <th>50%</th>\n",
       "      <td>NaN</td>\n",
       "      <td>NaN</td>\n",
       "      <td>2.950000e+03</td>\n",
       "      <td>NaN</td>\n",
       "      <td>NaN</td>\n",
       "      <td>2003.000000</td>\n",
       "      <td>NaN</td>\n",
       "      <td>105.000000</td>\n",
       "      <td>NaN</td>\n",
       "      <td>NaN</td>\n",
       "      <td>6.000000</td>\n",
       "      <td>NaN</td>\n",
       "      <td>NaN</td>\n",
       "      <td>NaN</td>\n",
       "      <td>NaN</td>\n",
       "      <td>49577.000000</td>\n",
       "      <td>NaN</td>\n",
       "    </tr>\n",
       "    <tr>\n",
       "      <th>75%</th>\n",
       "      <td>NaN</td>\n",
       "      <td>NaN</td>\n",
       "      <td>7.200000e+03</td>\n",
       "      <td>NaN</td>\n",
       "      <td>NaN</td>\n",
       "      <td>2008.000000</td>\n",
       "      <td>NaN</td>\n",
       "      <td>150.000000</td>\n",
       "      <td>NaN</td>\n",
       "      <td>NaN</td>\n",
       "      <td>9.000000</td>\n",
       "      <td>NaN</td>\n",
       "      <td>NaN</td>\n",
       "      <td>NaN</td>\n",
       "      <td>NaN</td>\n",
       "      <td>71540.000000</td>\n",
       "      <td>NaN</td>\n",
       "    </tr>\n",
       "    <tr>\n",
       "      <th>max</th>\n",
       "      <td>NaN</td>\n",
       "      <td>NaN</td>\n",
       "      <td>1.000000e+08</td>\n",
       "      <td>NaN</td>\n",
       "      <td>NaN</td>\n",
       "      <td>9999.000000</td>\n",
       "      <td>NaN</td>\n",
       "      <td>17700.000000</td>\n",
       "      <td>NaN</td>\n",
       "      <td>NaN</td>\n",
       "      <td>12.000000</td>\n",
       "      <td>NaN</td>\n",
       "      <td>NaN</td>\n",
       "      <td>NaN</td>\n",
       "      <td>NaN</td>\n",
       "      <td>99998.000000</td>\n",
       "      <td>NaN</td>\n",
       "    </tr>\n",
       "  </tbody>\n",
       "</table>\n",
       "</div>"
      ],
      "text/plain": [
       "               date_crawled         name     price_usd abtest vehicle_type  \\\n",
       "count                 50000        50000  5.000000e+04  50000        44905   \n",
       "unique                48213        38754           NaN      2            8   \n",
       "top     2016-03-23 19:38:20  Ford_Fiesta           NaN   test    limousine   \n",
       "freq                      3           78           NaN  25756        12859   \n",
       "mean                    NaN          NaN  9.840044e+03    NaN          NaN   \n",
       "std                     NaN          NaN  4.811044e+05    NaN          NaN   \n",
       "min                     NaN          NaN  0.000000e+00    NaN          NaN   \n",
       "25%                     NaN          NaN  1.100000e+03    NaN          NaN   \n",
       "50%                     NaN          NaN  2.950000e+03    NaN          NaN   \n",
       "75%                     NaN          NaN  7.200000e+03    NaN          NaN   \n",
       "max                     NaN          NaN  1.000000e+08    NaN          NaN   \n",
       "\n",
       "        registration_year  gearbox      power_ps  model   odometer  \\\n",
       "count        50000.000000    47320  50000.000000  47242      50000   \n",
       "unique                NaN        2           NaN    245         13   \n",
       "top                   NaN  manuell           NaN   golf  150,000km   \n",
       "freq                  NaN    36993           NaN   4024      32424   \n",
       "mean          2005.073280      NaN    116.355920    NaN        NaN   \n",
       "std            105.712813      NaN    209.216627    NaN        NaN   \n",
       "min           1000.000000      NaN      0.000000    NaN        NaN   \n",
       "25%           1999.000000      NaN     70.000000    NaN        NaN   \n",
       "50%           2003.000000      NaN    105.000000    NaN        NaN   \n",
       "75%           2008.000000      NaN    150.000000    NaN        NaN   \n",
       "max           9999.000000      NaN  17700.000000    NaN        NaN   \n",
       "\n",
       "        registration_month fuel_type       brand unrepaired_damage  \\\n",
       "count         50000.000000     45518       50000             40171   \n",
       "unique                 NaN         7          40                 2   \n",
       "top                    NaN    benzin  volkswagen              nein   \n",
       "freq                   NaN     30107       10687             35232   \n",
       "mean              5.723360       NaN         NaN               NaN   \n",
       "std               3.711984       NaN         NaN               NaN   \n",
       "min               0.000000       NaN         NaN               NaN   \n",
       "25%               3.000000       NaN         NaN               NaN   \n",
       "50%               6.000000       NaN         NaN               NaN   \n",
       "75%               9.000000       NaN         NaN               NaN   \n",
       "max              12.000000       NaN         NaN               NaN   \n",
       "\n",
       "                 ad_created   postal_code            last_seen  \n",
       "count                 50000  50000.000000                50000  \n",
       "unique                   76           NaN                39481  \n",
       "top     2016-04-03 00:00:00           NaN  2016-04-07 06:17:27  \n",
       "freq                   1946           NaN                    8  \n",
       "mean                    NaN  50813.627300                  NaN  \n",
       "std                     NaN  25779.747957                  NaN  \n",
       "min                     NaN   1067.000000                  NaN  \n",
       "25%                     NaN  30451.000000                  NaN  \n",
       "50%                     NaN  49577.000000                  NaN  \n",
       "75%                     NaN  71540.000000                  NaN  \n",
       "max                     NaN  99998.000000                  NaN  "
      ]
     },
     "execution_count": 12,
     "metadata": {},
     "output_type": "execute_result"
    }
   ],
   "source": [
    "autos[\"price\"] = autos[\"price\"].str.replace(\"$\", \"\")\n",
    "autos[\"price\"] = autos[\"price\"].str.replace(\",\", \"\")\n",
    "autos.rename({\"price\":\"price_usd\"}, axis = 1, inplace = True)\n",
    "autos[\"price_usd\"] = autos[\"price_usd\"].astype(int)\n",
    "autos.describe(include = 'all')"
   ]
  },
  {
   "cell_type": "markdown",
   "metadata": {},
   "source": [
    "We will convert the \"odometer\" column using the same method."
   ]
  },
  {
   "cell_type": "code",
   "execution_count": 13,
   "metadata": {
    "collapsed": false
   },
   "outputs": [
    {
     "name": "stdout",
     "output_type": "stream",
     "text": [
      "['150,000km' '70,000km' '50,000km' '80,000km' '10,000km' '30,000km'\n",
      " '125,000km' '90,000km' '20,000km' '60,000km' '5,000km' '100,000km'\n",
      " '40,000km']\n"
     ]
    }
   ],
   "source": [
    "print(autos['odometer'].unique())"
   ]
  },
  {
   "cell_type": "code",
   "execution_count": 14,
   "metadata": {
    "collapsed": false
   },
   "outputs": [
    {
     "name": "stdout",
     "output_type": "stream",
     "text": [
      "[150000  70000  50000  80000  10000  30000 125000  90000  20000  60000\n",
      "   5000 100000  40000]\n"
     ]
    },
    {
     "data": {
      "text/html": [
       "<div>\n",
       "<style scoped>\n",
       "    .dataframe tbody tr th:only-of-type {\n",
       "        vertical-align: middle;\n",
       "    }\n",
       "\n",
       "    .dataframe tbody tr th {\n",
       "        vertical-align: top;\n",
       "    }\n",
       "\n",
       "    .dataframe thead th {\n",
       "        text-align: right;\n",
       "    }\n",
       "</style>\n",
       "<table border=\"1\" class=\"dataframe\">\n",
       "  <thead>\n",
       "    <tr style=\"text-align: right;\">\n",
       "      <th></th>\n",
       "      <th>date_crawled</th>\n",
       "      <th>name</th>\n",
       "      <th>price_usd</th>\n",
       "      <th>abtest</th>\n",
       "      <th>vehicle_type</th>\n",
       "      <th>registration_year</th>\n",
       "      <th>gearbox</th>\n",
       "      <th>power_ps</th>\n",
       "      <th>model</th>\n",
       "      <th>odometer_km</th>\n",
       "      <th>registration_month</th>\n",
       "      <th>fuel_type</th>\n",
       "      <th>brand</th>\n",
       "      <th>unrepaired_damage</th>\n",
       "      <th>ad_created</th>\n",
       "      <th>postal_code</th>\n",
       "      <th>last_seen</th>\n",
       "    </tr>\n",
       "  </thead>\n",
       "  <tbody>\n",
       "    <tr>\n",
       "      <th>count</th>\n",
       "      <td>50000</td>\n",
       "      <td>50000</td>\n",
       "      <td>5.000000e+04</td>\n",
       "      <td>50000</td>\n",
       "      <td>44905</td>\n",
       "      <td>50000.000000</td>\n",
       "      <td>47320</td>\n",
       "      <td>50000.000000</td>\n",
       "      <td>47242</td>\n",
       "      <td>50000.000000</td>\n",
       "      <td>50000.000000</td>\n",
       "      <td>45518</td>\n",
       "      <td>50000</td>\n",
       "      <td>40171</td>\n",
       "      <td>50000</td>\n",
       "      <td>50000.000000</td>\n",
       "      <td>50000</td>\n",
       "    </tr>\n",
       "    <tr>\n",
       "      <th>unique</th>\n",
       "      <td>48213</td>\n",
       "      <td>38754</td>\n",
       "      <td>NaN</td>\n",
       "      <td>2</td>\n",
       "      <td>8</td>\n",
       "      <td>NaN</td>\n",
       "      <td>2</td>\n",
       "      <td>NaN</td>\n",
       "      <td>245</td>\n",
       "      <td>NaN</td>\n",
       "      <td>NaN</td>\n",
       "      <td>7</td>\n",
       "      <td>40</td>\n",
       "      <td>2</td>\n",
       "      <td>76</td>\n",
       "      <td>NaN</td>\n",
       "      <td>39481</td>\n",
       "    </tr>\n",
       "    <tr>\n",
       "      <th>top</th>\n",
       "      <td>2016-03-23 19:38:20</td>\n",
       "      <td>Ford_Fiesta</td>\n",
       "      <td>NaN</td>\n",
       "      <td>test</td>\n",
       "      <td>limousine</td>\n",
       "      <td>NaN</td>\n",
       "      <td>manuell</td>\n",
       "      <td>NaN</td>\n",
       "      <td>golf</td>\n",
       "      <td>NaN</td>\n",
       "      <td>NaN</td>\n",
       "      <td>benzin</td>\n",
       "      <td>volkswagen</td>\n",
       "      <td>nein</td>\n",
       "      <td>2016-04-03 00:00:00</td>\n",
       "      <td>NaN</td>\n",
       "      <td>2016-04-07 06:17:27</td>\n",
       "    </tr>\n",
       "    <tr>\n",
       "      <th>freq</th>\n",
       "      <td>3</td>\n",
       "      <td>78</td>\n",
       "      <td>NaN</td>\n",
       "      <td>25756</td>\n",
       "      <td>12859</td>\n",
       "      <td>NaN</td>\n",
       "      <td>36993</td>\n",
       "      <td>NaN</td>\n",
       "      <td>4024</td>\n",
       "      <td>NaN</td>\n",
       "      <td>NaN</td>\n",
       "      <td>30107</td>\n",
       "      <td>10687</td>\n",
       "      <td>35232</td>\n",
       "      <td>1946</td>\n",
       "      <td>NaN</td>\n",
       "      <td>8</td>\n",
       "    </tr>\n",
       "    <tr>\n",
       "      <th>mean</th>\n",
       "      <td>NaN</td>\n",
       "      <td>NaN</td>\n",
       "      <td>9.840044e+03</td>\n",
       "      <td>NaN</td>\n",
       "      <td>NaN</td>\n",
       "      <td>2005.073280</td>\n",
       "      <td>NaN</td>\n",
       "      <td>116.355920</td>\n",
       "      <td>NaN</td>\n",
       "      <td>125732.700000</td>\n",
       "      <td>5.723360</td>\n",
       "      <td>NaN</td>\n",
       "      <td>NaN</td>\n",
       "      <td>NaN</td>\n",
       "      <td>NaN</td>\n",
       "      <td>50813.627300</td>\n",
       "      <td>NaN</td>\n",
       "    </tr>\n",
       "    <tr>\n",
       "      <th>std</th>\n",
       "      <td>NaN</td>\n",
       "      <td>NaN</td>\n",
       "      <td>4.811044e+05</td>\n",
       "      <td>NaN</td>\n",
       "      <td>NaN</td>\n",
       "      <td>105.712813</td>\n",
       "      <td>NaN</td>\n",
       "      <td>209.216627</td>\n",
       "      <td>NaN</td>\n",
       "      <td>40042.211706</td>\n",
       "      <td>3.711984</td>\n",
       "      <td>NaN</td>\n",
       "      <td>NaN</td>\n",
       "      <td>NaN</td>\n",
       "      <td>NaN</td>\n",
       "      <td>25779.747957</td>\n",
       "      <td>NaN</td>\n",
       "    </tr>\n",
       "    <tr>\n",
       "      <th>min</th>\n",
       "      <td>NaN</td>\n",
       "      <td>NaN</td>\n",
       "      <td>0.000000e+00</td>\n",
       "      <td>NaN</td>\n",
       "      <td>NaN</td>\n",
       "      <td>1000.000000</td>\n",
       "      <td>NaN</td>\n",
       "      <td>0.000000</td>\n",
       "      <td>NaN</td>\n",
       "      <td>5000.000000</td>\n",
       "      <td>0.000000</td>\n",
       "      <td>NaN</td>\n",
       "      <td>NaN</td>\n",
       "      <td>NaN</td>\n",
       "      <td>NaN</td>\n",
       "      <td>1067.000000</td>\n",
       "      <td>NaN</td>\n",
       "    </tr>\n",
       "    <tr>\n",
       "      <th>25%</th>\n",
       "      <td>NaN</td>\n",
       "      <td>NaN</td>\n",
       "      <td>1.100000e+03</td>\n",
       "      <td>NaN</td>\n",
       "      <td>NaN</td>\n",
       "      <td>1999.000000</td>\n",
       "      <td>NaN</td>\n",
       "      <td>70.000000</td>\n",
       "      <td>NaN</td>\n",
       "      <td>125000.000000</td>\n",
       "      <td>3.000000</td>\n",
       "      <td>NaN</td>\n",
       "      <td>NaN</td>\n",
       "      <td>NaN</td>\n",
       "      <td>NaN</td>\n",
       "      <td>30451.000000</td>\n",
       "      <td>NaN</td>\n",
       "    </tr>\n",
       "    <tr>\n",
       "      <th>50%</th>\n",
       "      <td>NaN</td>\n",
       "      <td>NaN</td>\n",
       "      <td>2.950000e+03</td>\n",
       "      <td>NaN</td>\n",
       "      <td>NaN</td>\n",
       "      <td>2003.000000</td>\n",
       "      <td>NaN</td>\n",
       "      <td>105.000000</td>\n",
       "      <td>NaN</td>\n",
       "      <td>150000.000000</td>\n",
       "      <td>6.000000</td>\n",
       "      <td>NaN</td>\n",
       "      <td>NaN</td>\n",
       "      <td>NaN</td>\n",
       "      <td>NaN</td>\n",
       "      <td>49577.000000</td>\n",
       "      <td>NaN</td>\n",
       "    </tr>\n",
       "    <tr>\n",
       "      <th>75%</th>\n",
       "      <td>NaN</td>\n",
       "      <td>NaN</td>\n",
       "      <td>7.200000e+03</td>\n",
       "      <td>NaN</td>\n",
       "      <td>NaN</td>\n",
       "      <td>2008.000000</td>\n",
       "      <td>NaN</td>\n",
       "      <td>150.000000</td>\n",
       "      <td>NaN</td>\n",
       "      <td>150000.000000</td>\n",
       "      <td>9.000000</td>\n",
       "      <td>NaN</td>\n",
       "      <td>NaN</td>\n",
       "      <td>NaN</td>\n",
       "      <td>NaN</td>\n",
       "      <td>71540.000000</td>\n",
       "      <td>NaN</td>\n",
       "    </tr>\n",
       "    <tr>\n",
       "      <th>max</th>\n",
       "      <td>NaN</td>\n",
       "      <td>NaN</td>\n",
       "      <td>1.000000e+08</td>\n",
       "      <td>NaN</td>\n",
       "      <td>NaN</td>\n",
       "      <td>9999.000000</td>\n",
       "      <td>NaN</td>\n",
       "      <td>17700.000000</td>\n",
       "      <td>NaN</td>\n",
       "      <td>150000.000000</td>\n",
       "      <td>12.000000</td>\n",
       "      <td>NaN</td>\n",
       "      <td>NaN</td>\n",
       "      <td>NaN</td>\n",
       "      <td>NaN</td>\n",
       "      <td>99998.000000</td>\n",
       "      <td>NaN</td>\n",
       "    </tr>\n",
       "  </tbody>\n",
       "</table>\n",
       "</div>"
      ],
      "text/plain": [
       "               date_crawled         name     price_usd abtest vehicle_type  \\\n",
       "count                 50000        50000  5.000000e+04  50000        44905   \n",
       "unique                48213        38754           NaN      2            8   \n",
       "top     2016-03-23 19:38:20  Ford_Fiesta           NaN   test    limousine   \n",
       "freq                      3           78           NaN  25756        12859   \n",
       "mean                    NaN          NaN  9.840044e+03    NaN          NaN   \n",
       "std                     NaN          NaN  4.811044e+05    NaN          NaN   \n",
       "min                     NaN          NaN  0.000000e+00    NaN          NaN   \n",
       "25%                     NaN          NaN  1.100000e+03    NaN          NaN   \n",
       "50%                     NaN          NaN  2.950000e+03    NaN          NaN   \n",
       "75%                     NaN          NaN  7.200000e+03    NaN          NaN   \n",
       "max                     NaN          NaN  1.000000e+08    NaN          NaN   \n",
       "\n",
       "        registration_year  gearbox      power_ps  model    odometer_km  \\\n",
       "count        50000.000000    47320  50000.000000  47242   50000.000000   \n",
       "unique                NaN        2           NaN    245            NaN   \n",
       "top                   NaN  manuell           NaN   golf            NaN   \n",
       "freq                  NaN    36993           NaN   4024            NaN   \n",
       "mean          2005.073280      NaN    116.355920    NaN  125732.700000   \n",
       "std            105.712813      NaN    209.216627    NaN   40042.211706   \n",
       "min           1000.000000      NaN      0.000000    NaN    5000.000000   \n",
       "25%           1999.000000      NaN     70.000000    NaN  125000.000000   \n",
       "50%           2003.000000      NaN    105.000000    NaN  150000.000000   \n",
       "75%           2008.000000      NaN    150.000000    NaN  150000.000000   \n",
       "max           9999.000000      NaN  17700.000000    NaN  150000.000000   \n",
       "\n",
       "        registration_month fuel_type       brand unrepaired_damage  \\\n",
       "count         50000.000000     45518       50000             40171   \n",
       "unique                 NaN         7          40                 2   \n",
       "top                    NaN    benzin  volkswagen              nein   \n",
       "freq                   NaN     30107       10687             35232   \n",
       "mean              5.723360       NaN         NaN               NaN   \n",
       "std               3.711984       NaN         NaN               NaN   \n",
       "min               0.000000       NaN         NaN               NaN   \n",
       "25%               3.000000       NaN         NaN               NaN   \n",
       "50%               6.000000       NaN         NaN               NaN   \n",
       "75%               9.000000       NaN         NaN               NaN   \n",
       "max              12.000000       NaN         NaN               NaN   \n",
       "\n",
       "                 ad_created   postal_code            last_seen  \n",
       "count                 50000  50000.000000                50000  \n",
       "unique                   76           NaN                39481  \n",
       "top     2016-04-03 00:00:00           NaN  2016-04-07 06:17:27  \n",
       "freq                   1946           NaN                    8  \n",
       "mean                    NaN  50813.627300                  NaN  \n",
       "std                     NaN  25779.747957                  NaN  \n",
       "min                     NaN   1067.000000                  NaN  \n",
       "25%                     NaN  30451.000000                  NaN  \n",
       "50%                     NaN  49577.000000                  NaN  \n",
       "75%                     NaN  71540.000000                  NaN  \n",
       "max                     NaN  99998.000000                  NaN  "
      ]
     },
     "execution_count": 14,
     "metadata": {},
     "output_type": "execute_result"
    }
   ],
   "source": [
    "autos['odometer'] = autos['odometer'].str.replace(\"km\", \"\")\n",
    "autos['odometer'] = autos['odometer'].str.replace(\",\", \"\")\n",
    "autos['odometer'] = autos['odometer'].astype(int)\n",
    "autos.rename({'odometer':'odometer_km'}, axis = 1, inplace = True)\n",
    "print(autos['odometer_km'].unique())\n",
    "autos.describe(include = 'all')"
   ]
  },
  {
   "cell_type": "markdown",
   "metadata": {},
   "source": [
    "## Exploring the price and odometer columns"
   ]
  },
  {
   "cell_type": "markdown",
   "metadata": {},
   "source": [
    "Let's continue exploring the data, specifically looking for data that doesn't look right. We'll start by analyzing the odometer_km and price columns. We will analyze the columns using minimum and maximum values and look for any values that look unrealistically high or low (outliers) that we might want to remove."
   ]
  },
  {
   "cell_type": "code",
   "execution_count": 15,
   "metadata": {
    "collapsed": false
   },
   "outputs": [
    {
     "data": {
      "text/plain": [
       "(2357,)"
      ]
     },
     "execution_count": 15,
     "metadata": {},
     "output_type": "execute_result"
    }
   ],
   "source": [
    "autos['price_usd'].unique().shape"
   ]
  },
  {
   "cell_type": "markdown",
   "metadata": {},
   "source": [
    "There are 2357 unique values in 'price_usd' column. Let's take a look at their descriptive statistics. "
   ]
  },
  {
   "cell_type": "code",
   "execution_count": 16,
   "metadata": {
    "collapsed": false
   },
   "outputs": [
    {
     "data": {
      "text/plain": [
       "count    5.000000e+04\n",
       "mean     9.840044e+03\n",
       "std      4.811044e+05\n",
       "min      0.000000e+00\n",
       "25%      1.100000e+03\n",
       "50%      2.950000e+03\n",
       "75%      7.200000e+03\n",
       "max      1.000000e+08\n",
       "Name: price_usd, dtype: float64"
      ]
     },
     "execution_count": 16,
     "metadata": {},
     "output_type": "execute_result"
    }
   ],
   "source": [
    "autos['price_usd'].describe()"
   ]
  },
  {
   "cell_type": "code",
   "execution_count": 17,
   "metadata": {
    "collapsed": false
   },
   "outputs": [
    {
     "data": {
      "text/plain": [
       "0         1421\n",
       "500        781\n",
       "1500       734\n",
       "2500       643\n",
       "1000       639\n",
       "1200       639\n",
       "600        531\n",
       "800        498\n",
       "3500       498\n",
       "2000       460\n",
       "999        434\n",
       "750        433\n",
       "900        420\n",
       "650        419\n",
       "850        410\n",
       "700        395\n",
       "4500       394\n",
       "300        384\n",
       "2200       382\n",
       "950        379\n",
       "1100       376\n",
       "1300       371\n",
       "3000       365\n",
       "550        356\n",
       "1800       355\n",
       "5500       340\n",
       "1250       335\n",
       "350        335\n",
       "1600       327\n",
       "1999       322\n",
       "          ... \n",
       "46200        1\n",
       "29600        1\n",
       "13480        1\n",
       "21700        1\n",
       "7373         1\n",
       "3279         1\n",
       "4286         1\n",
       "188          1\n",
       "17830        1\n",
       "9130         1\n",
       "910          1\n",
       "238          1\n",
       "2671         1\n",
       "69900        1\n",
       "151990       1\n",
       "2479         1\n",
       "4510         1\n",
       "86500        1\n",
       "47499        1\n",
       "16998        1\n",
       "27299        1\n",
       "41850        1\n",
       "4780         1\n",
       "686          1\n",
       "6495         1\n",
       "20790        1\n",
       "8970         1\n",
       "846          1\n",
       "2895         1\n",
       "33980        1\n",
       "Name: price_usd, Length: 2357, dtype: int64"
      ]
     },
     "execution_count": 17,
     "metadata": {},
     "output_type": "execute_result"
    }
   ],
   "source": [
    "autos['price_usd'].value_counts()"
   ]
  },
  {
   "cell_type": "markdown",
   "metadata": {},
   "source": [
    "We can sort the result to explore the data in detail."
   ]
  },
  {
   "cell_type": "code",
   "execution_count": 18,
   "metadata": {
    "collapsed": false
   },
   "outputs": [
    {
     "data": {
      "text/plain": [
       "0     1421\n",
       "1      156\n",
       "2        3\n",
       "3        1\n",
       "5        2\n",
       "8        1\n",
       "9        1\n",
       "10       7\n",
       "11       2\n",
       "12       3\n",
       "13       2\n",
       "14       1\n",
       "15       2\n",
       "17       3\n",
       "18       1\n",
       "20       4\n",
       "25       5\n",
       "29       1\n",
       "30       7\n",
       "35       1\n",
       "Name: price_usd, dtype: int64"
      ]
     },
     "execution_count": 18,
     "metadata": {},
     "output_type": "execute_result"
    }
   ],
   "source": [
    "autos['price_usd'].value_counts().sort_index(ascending = True).head(20)"
   ]
  },
  {
   "cell_type": "markdown",
   "metadata": {},
   "source": [
    "There are 1421 cars, about 3% of all the cars listed as $0, which is unrealistic. We will remove all them later."
   ]
  },
  {
   "cell_type": "code",
   "execution_count": 19,
   "metadata": {
    "collapsed": false
   },
   "outputs": [
    {
     "data": {
      "text/plain": [
       "99999999    1\n",
       "27322222    1\n",
       "12345678    3\n",
       "11111111    2\n",
       "10000000    1\n",
       "3890000     1\n",
       "1300000     1\n",
       "1234566     1\n",
       "999999      2\n",
       "999990      1\n",
       "350000      1\n",
       "345000      1\n",
       "299000      1\n",
       "295000      1\n",
       "265000      1\n",
       "259000      1\n",
       "250000      1\n",
       "220000      1\n",
       "198000      1\n",
       "197000      1\n",
       "Name: price_usd, dtype: int64"
      ]
     },
     "execution_count": 19,
     "metadata": {},
     "output_type": "execute_result"
    }
   ],
   "source": [
    "autos['price_usd'].value_counts().sort_index(ascending = False).head(20)"
   ]
  },
  {
   "cell_type": "markdown",
   "metadata": {
    "collapsed": true
   },
   "source": [
    "About 14 cars' listing pirce are more than 1 million. According to the sorting result, the price increases steadily before $350000. Since eBay is an auction site, we believe that the cars with price more than 1 million can be removed."
   ]
  },
  {
   "cell_type": "code",
   "execution_count": 20,
   "metadata": {
    "collapsed": true
   },
   "outputs": [],
   "source": [
    "autos = autos[autos[\"price_usd\"].between(1, 351000)]"
   ]
  },
  {
   "cell_type": "code",
   "execution_count": 21,
   "metadata": {
    "collapsed": false
   },
   "outputs": [
    {
     "data": {
      "text/html": [
       "<div>\n",
       "<style scoped>\n",
       "    .dataframe tbody tr th:only-of-type {\n",
       "        vertical-align: middle;\n",
       "    }\n",
       "\n",
       "    .dataframe tbody tr th {\n",
       "        vertical-align: top;\n",
       "    }\n",
       "\n",
       "    .dataframe thead th {\n",
       "        text-align: right;\n",
       "    }\n",
       "</style>\n",
       "<table border=\"1\" class=\"dataframe\">\n",
       "  <thead>\n",
       "    <tr style=\"text-align: right;\">\n",
       "      <th></th>\n",
       "      <th>price_usd</th>\n",
       "      <th>registration_year</th>\n",
       "      <th>power_ps</th>\n",
       "      <th>odometer_km</th>\n",
       "      <th>registration_month</th>\n",
       "      <th>postal_code</th>\n",
       "    </tr>\n",
       "  </thead>\n",
       "  <tbody>\n",
       "    <tr>\n",
       "      <th>count</th>\n",
       "      <td>48565.000000</td>\n",
       "      <td>48565.000000</td>\n",
       "      <td>48565.000000</td>\n",
       "      <td>48565.000000</td>\n",
       "      <td>48565.000000</td>\n",
       "      <td>48565.000000</td>\n",
       "    </tr>\n",
       "    <tr>\n",
       "      <th>mean</th>\n",
       "      <td>5888.935591</td>\n",
       "      <td>2004.755421</td>\n",
       "      <td>117.197158</td>\n",
       "      <td>125770.101925</td>\n",
       "      <td>5.782251</td>\n",
       "      <td>50975.745207</td>\n",
       "    </tr>\n",
       "    <tr>\n",
       "      <th>std</th>\n",
       "      <td>9059.854754</td>\n",
       "      <td>88.643887</td>\n",
       "      <td>200.649618</td>\n",
       "      <td>39788.636804</td>\n",
       "      <td>3.685595</td>\n",
       "      <td>25746.968398</td>\n",
       "    </tr>\n",
       "    <tr>\n",
       "      <th>min</th>\n",
       "      <td>1.000000</td>\n",
       "      <td>1000.000000</td>\n",
       "      <td>0.000000</td>\n",
       "      <td>5000.000000</td>\n",
       "      <td>0.000000</td>\n",
       "      <td>1067.000000</td>\n",
       "    </tr>\n",
       "    <tr>\n",
       "      <th>25%</th>\n",
       "      <td>1200.000000</td>\n",
       "      <td>1999.000000</td>\n",
       "      <td>71.000000</td>\n",
       "      <td>125000.000000</td>\n",
       "      <td>3.000000</td>\n",
       "      <td>30657.000000</td>\n",
       "    </tr>\n",
       "    <tr>\n",
       "      <th>50%</th>\n",
       "      <td>3000.000000</td>\n",
       "      <td>2004.000000</td>\n",
       "      <td>107.000000</td>\n",
       "      <td>150000.000000</td>\n",
       "      <td>6.000000</td>\n",
       "      <td>49716.000000</td>\n",
       "    </tr>\n",
       "    <tr>\n",
       "      <th>75%</th>\n",
       "      <td>7490.000000</td>\n",
       "      <td>2008.000000</td>\n",
       "      <td>150.000000</td>\n",
       "      <td>150000.000000</td>\n",
       "      <td>9.000000</td>\n",
       "      <td>71665.000000</td>\n",
       "    </tr>\n",
       "    <tr>\n",
       "      <th>max</th>\n",
       "      <td>350000.000000</td>\n",
       "      <td>9999.000000</td>\n",
       "      <td>17700.000000</td>\n",
       "      <td>150000.000000</td>\n",
       "      <td>12.000000</td>\n",
       "      <td>99998.000000</td>\n",
       "    </tr>\n",
       "  </tbody>\n",
       "</table>\n",
       "</div>"
      ],
      "text/plain": [
       "           price_usd  registration_year      power_ps    odometer_km  \\\n",
       "count   48565.000000       48565.000000  48565.000000   48565.000000   \n",
       "mean     5888.935591        2004.755421    117.197158  125770.101925   \n",
       "std      9059.854754          88.643887    200.649618   39788.636804   \n",
       "min         1.000000        1000.000000      0.000000    5000.000000   \n",
       "25%      1200.000000        1999.000000     71.000000  125000.000000   \n",
       "50%      3000.000000        2004.000000    107.000000  150000.000000   \n",
       "75%      7490.000000        2008.000000    150.000000  150000.000000   \n",
       "max    350000.000000        9999.000000  17700.000000  150000.000000   \n",
       "\n",
       "       registration_month   postal_code  \n",
       "count        48565.000000  48565.000000  \n",
       "mean             5.782251  50975.745207  \n",
       "std              3.685595  25746.968398  \n",
       "min              0.000000   1067.000000  \n",
       "25%              3.000000  30657.000000  \n",
       "50%              6.000000  49716.000000  \n",
       "75%              9.000000  71665.000000  \n",
       "max             12.000000  99998.000000  "
      ]
     },
     "execution_count": 21,
     "metadata": {},
     "output_type": "execute_result"
    }
   ],
   "source": [
    "autos.describe()"
   ]
  },
  {
   "cell_type": "code",
   "execution_count": 22,
   "metadata": {
    "collapsed": false
   },
   "outputs": [
    {
     "data": {
      "text/plain": [
       "1     156\n",
       "2       3\n",
       "3       1\n",
       "5       2\n",
       "8       1\n",
       "9       1\n",
       "10      7\n",
       "11      2\n",
       "12      3\n",
       "13      2\n",
       "14      1\n",
       "15      2\n",
       "17      3\n",
       "18      1\n",
       "20      4\n",
       "25      5\n",
       "29      1\n",
       "30      7\n",
       "35      1\n",
       "40      6\n",
       "Name: price_usd, dtype: int64"
      ]
     },
     "execution_count": 22,
     "metadata": {},
     "output_type": "execute_result"
    }
   ],
   "source": [
    "autos[\"price_usd\"].value_counts().sort_index(ascending = True).head(20)"
   ]
  },
  {
   "cell_type": "code",
   "execution_count": 23,
   "metadata": {
    "collapsed": false
   },
   "outputs": [
    {
     "data": {
      "text/plain": [
       "350000    1\n",
       "345000    1\n",
       "299000    1\n",
       "295000    1\n",
       "265000    1\n",
       "259000    1\n",
       "250000    1\n",
       "220000    1\n",
       "198000    1\n",
       "197000    1\n",
       "194000    1\n",
       "190000    1\n",
       "180000    1\n",
       "175000    1\n",
       "169999    1\n",
       "169000    1\n",
       "163991    1\n",
       "163500    1\n",
       "155000    1\n",
       "151990    1\n",
       "Name: price_usd, dtype: int64"
      ]
     },
     "execution_count": 23,
     "metadata": {},
     "output_type": "execute_result"
    }
   ],
   "source": [
    "autos[\"price_usd\"].value_counts().sort_index(ascending = False).head(20)"
   ]
  },
  {
   "cell_type": "markdown",
   "metadata": {
    "collapsed": true
   },
   "source": [
    "Next we will check the \"odometer\" column."
   ]
  },
  {
   "cell_type": "code",
   "execution_count": 24,
   "metadata": {
    "collapsed": false
   },
   "outputs": [
    {
     "data": {
      "text/plain": [
       "150000    31414\n",
       "125000     5057\n",
       "100000     2115\n",
       "90000      1734\n",
       "80000      1415\n",
       "70000      1217\n",
       "60000      1155\n",
       "50000      1012\n",
       "5000        836\n",
       "40000       815\n",
       "30000       780\n",
       "20000       762\n",
       "10000       253\n",
       "Name: odometer_km, dtype: int64"
      ]
     },
     "execution_count": 24,
     "metadata": {},
     "output_type": "execute_result"
    }
   ],
   "source": [
    "autos['odometer_km'].value_counts()"
   ]
  },
  {
   "cell_type": "markdown",
   "metadata": {},
   "source": [
    "We can see here that all the values of odometer are rounded. This is probably because there are range options, not exact milage, when sellers fill the information. The majority of the cars have larger odometers based on the value counts result."
   ]
  },
  {
   "cell_type": "markdown",
   "metadata": {},
   "source": [
    "## Exporing the date columns"
   ]
  },
  {
   "cell_type": "markdown",
   "metadata": {},
   "source": [
    "Next we will move on to the date columns and understand the date range the data covers.\n",
    "\n",
    "There are 5 columns that should represent date values. Some of these columns were created by the crawler, some came from the website itself. The \"date_crawled\", \"last_seen\", and \"ad_created\" columns are all identified as string values by pandas. Because these three columns are represented as strings, we need to convert the data into a numerical representation then we can understand it quantitatively. The other two columns are represented as numeric values, so we can use methods like Series.describe() to understand the distribution without any extra data processing."
   ]
  },
  {
   "cell_type": "code",
   "execution_count": 25,
   "metadata": {
    "collapsed": false
   },
   "outputs": [
    {
     "data": {
      "text/html": [
       "<div>\n",
       "<style scoped>\n",
       "    .dataframe tbody tr th:only-of-type {\n",
       "        vertical-align: middle;\n",
       "    }\n",
       "\n",
       "    .dataframe tbody tr th {\n",
       "        vertical-align: top;\n",
       "    }\n",
       "\n",
       "    .dataframe thead th {\n",
       "        text-align: right;\n",
       "    }\n",
       "</style>\n",
       "<table border=\"1\" class=\"dataframe\">\n",
       "  <thead>\n",
       "    <tr style=\"text-align: right;\">\n",
       "      <th></th>\n",
       "      <th>date_crawled</th>\n",
       "      <th>name</th>\n",
       "      <th>price_usd</th>\n",
       "      <th>abtest</th>\n",
       "      <th>vehicle_type</th>\n",
       "      <th>registration_year</th>\n",
       "      <th>gearbox</th>\n",
       "      <th>power_ps</th>\n",
       "      <th>model</th>\n",
       "      <th>odometer_km</th>\n",
       "      <th>registration_month</th>\n",
       "      <th>fuel_type</th>\n",
       "      <th>brand</th>\n",
       "      <th>unrepaired_damage</th>\n",
       "      <th>ad_created</th>\n",
       "      <th>postal_code</th>\n",
       "      <th>last_seen</th>\n",
       "    </tr>\n",
       "  </thead>\n",
       "  <tbody>\n",
       "    <tr>\n",
       "      <th>count</th>\n",
       "      <td>48565</td>\n",
       "      <td>48565</td>\n",
       "      <td>48565.000000</td>\n",
       "      <td>48565</td>\n",
       "      <td>43979</td>\n",
       "      <td>48565.000000</td>\n",
       "      <td>46222</td>\n",
       "      <td>48565.000000</td>\n",
       "      <td>46107</td>\n",
       "      <td>48565.000000</td>\n",
       "      <td>48565.000000</td>\n",
       "      <td>44535</td>\n",
       "      <td>48565</td>\n",
       "      <td>39464</td>\n",
       "      <td>48565</td>\n",
       "      <td>48565.000000</td>\n",
       "      <td>48565</td>\n",
       "    </tr>\n",
       "    <tr>\n",
       "      <th>unique</th>\n",
       "      <td>46882</td>\n",
       "      <td>37470</td>\n",
       "      <td>NaN</td>\n",
       "      <td>2</td>\n",
       "      <td>8</td>\n",
       "      <td>NaN</td>\n",
       "      <td>2</td>\n",
       "      <td>NaN</td>\n",
       "      <td>245</td>\n",
       "      <td>NaN</td>\n",
       "      <td>NaN</td>\n",
       "      <td>7</td>\n",
       "      <td>40</td>\n",
       "      <td>2</td>\n",
       "      <td>76</td>\n",
       "      <td>NaN</td>\n",
       "      <td>38474</td>\n",
       "    </tr>\n",
       "    <tr>\n",
       "      <th>top</th>\n",
       "      <td>2016-04-04 16:40:33</td>\n",
       "      <td>Ford_Fiesta</td>\n",
       "      <td>NaN</td>\n",
       "      <td>test</td>\n",
       "      <td>limousine</td>\n",
       "      <td>NaN</td>\n",
       "      <td>manuell</td>\n",
       "      <td>NaN</td>\n",
       "      <td>golf</td>\n",
       "      <td>NaN</td>\n",
       "      <td>NaN</td>\n",
       "      <td>benzin</td>\n",
       "      <td>volkswagen</td>\n",
       "      <td>nein</td>\n",
       "      <td>2016-04-03 00:00:00</td>\n",
       "      <td>NaN</td>\n",
       "      <td>2016-04-07 06:17:27</td>\n",
       "    </tr>\n",
       "    <tr>\n",
       "      <th>freq</th>\n",
       "      <td>3</td>\n",
       "      <td>76</td>\n",
       "      <td>NaN</td>\n",
       "      <td>25019</td>\n",
       "      <td>12598</td>\n",
       "      <td>NaN</td>\n",
       "      <td>36102</td>\n",
       "      <td>NaN</td>\n",
       "      <td>3900</td>\n",
       "      <td>NaN</td>\n",
       "      <td>NaN</td>\n",
       "      <td>29368</td>\n",
       "      <td>10336</td>\n",
       "      <td>34775</td>\n",
       "      <td>1887</td>\n",
       "      <td>NaN</td>\n",
       "      <td>8</td>\n",
       "    </tr>\n",
       "    <tr>\n",
       "      <th>mean</th>\n",
       "      <td>NaN</td>\n",
       "      <td>NaN</td>\n",
       "      <td>5888.935591</td>\n",
       "      <td>NaN</td>\n",
       "      <td>NaN</td>\n",
       "      <td>2004.755421</td>\n",
       "      <td>NaN</td>\n",
       "      <td>117.197158</td>\n",
       "      <td>NaN</td>\n",
       "      <td>125770.101925</td>\n",
       "      <td>5.782251</td>\n",
       "      <td>NaN</td>\n",
       "      <td>NaN</td>\n",
       "      <td>NaN</td>\n",
       "      <td>NaN</td>\n",
       "      <td>50975.745207</td>\n",
       "      <td>NaN</td>\n",
       "    </tr>\n",
       "    <tr>\n",
       "      <th>std</th>\n",
       "      <td>NaN</td>\n",
       "      <td>NaN</td>\n",
       "      <td>9059.854754</td>\n",
       "      <td>NaN</td>\n",
       "      <td>NaN</td>\n",
       "      <td>88.643887</td>\n",
       "      <td>NaN</td>\n",
       "      <td>200.649618</td>\n",
       "      <td>NaN</td>\n",
       "      <td>39788.636804</td>\n",
       "      <td>3.685595</td>\n",
       "      <td>NaN</td>\n",
       "      <td>NaN</td>\n",
       "      <td>NaN</td>\n",
       "      <td>NaN</td>\n",
       "      <td>25746.968398</td>\n",
       "      <td>NaN</td>\n",
       "    </tr>\n",
       "    <tr>\n",
       "      <th>min</th>\n",
       "      <td>NaN</td>\n",
       "      <td>NaN</td>\n",
       "      <td>1.000000</td>\n",
       "      <td>NaN</td>\n",
       "      <td>NaN</td>\n",
       "      <td>1000.000000</td>\n",
       "      <td>NaN</td>\n",
       "      <td>0.000000</td>\n",
       "      <td>NaN</td>\n",
       "      <td>5000.000000</td>\n",
       "      <td>0.000000</td>\n",
       "      <td>NaN</td>\n",
       "      <td>NaN</td>\n",
       "      <td>NaN</td>\n",
       "      <td>NaN</td>\n",
       "      <td>1067.000000</td>\n",
       "      <td>NaN</td>\n",
       "    </tr>\n",
       "    <tr>\n",
       "      <th>25%</th>\n",
       "      <td>NaN</td>\n",
       "      <td>NaN</td>\n",
       "      <td>1200.000000</td>\n",
       "      <td>NaN</td>\n",
       "      <td>NaN</td>\n",
       "      <td>1999.000000</td>\n",
       "      <td>NaN</td>\n",
       "      <td>71.000000</td>\n",
       "      <td>NaN</td>\n",
       "      <td>125000.000000</td>\n",
       "      <td>3.000000</td>\n",
       "      <td>NaN</td>\n",
       "      <td>NaN</td>\n",
       "      <td>NaN</td>\n",
       "      <td>NaN</td>\n",
       "      <td>30657.000000</td>\n",
       "      <td>NaN</td>\n",
       "    </tr>\n",
       "    <tr>\n",
       "      <th>50%</th>\n",
       "      <td>NaN</td>\n",
       "      <td>NaN</td>\n",
       "      <td>3000.000000</td>\n",
       "      <td>NaN</td>\n",
       "      <td>NaN</td>\n",
       "      <td>2004.000000</td>\n",
       "      <td>NaN</td>\n",
       "      <td>107.000000</td>\n",
       "      <td>NaN</td>\n",
       "      <td>150000.000000</td>\n",
       "      <td>6.000000</td>\n",
       "      <td>NaN</td>\n",
       "      <td>NaN</td>\n",
       "      <td>NaN</td>\n",
       "      <td>NaN</td>\n",
       "      <td>49716.000000</td>\n",
       "      <td>NaN</td>\n",
       "    </tr>\n",
       "    <tr>\n",
       "      <th>75%</th>\n",
       "      <td>NaN</td>\n",
       "      <td>NaN</td>\n",
       "      <td>7490.000000</td>\n",
       "      <td>NaN</td>\n",
       "      <td>NaN</td>\n",
       "      <td>2008.000000</td>\n",
       "      <td>NaN</td>\n",
       "      <td>150.000000</td>\n",
       "      <td>NaN</td>\n",
       "      <td>150000.000000</td>\n",
       "      <td>9.000000</td>\n",
       "      <td>NaN</td>\n",
       "      <td>NaN</td>\n",
       "      <td>NaN</td>\n",
       "      <td>NaN</td>\n",
       "      <td>71665.000000</td>\n",
       "      <td>NaN</td>\n",
       "    </tr>\n",
       "    <tr>\n",
       "      <th>max</th>\n",
       "      <td>NaN</td>\n",
       "      <td>NaN</td>\n",
       "      <td>350000.000000</td>\n",
       "      <td>NaN</td>\n",
       "      <td>NaN</td>\n",
       "      <td>9999.000000</td>\n",
       "      <td>NaN</td>\n",
       "      <td>17700.000000</td>\n",
       "      <td>NaN</td>\n",
       "      <td>150000.000000</td>\n",
       "      <td>12.000000</td>\n",
       "      <td>NaN</td>\n",
       "      <td>NaN</td>\n",
       "      <td>NaN</td>\n",
       "      <td>NaN</td>\n",
       "      <td>99998.000000</td>\n",
       "      <td>NaN</td>\n",
       "    </tr>\n",
       "  </tbody>\n",
       "</table>\n",
       "</div>"
      ],
      "text/plain": [
       "               date_crawled         name      price_usd abtest vehicle_type  \\\n",
       "count                 48565        48565   48565.000000  48565        43979   \n",
       "unique                46882        37470            NaN      2            8   \n",
       "top     2016-04-04 16:40:33  Ford_Fiesta            NaN   test    limousine   \n",
       "freq                      3           76            NaN  25019        12598   \n",
       "mean                    NaN          NaN    5888.935591    NaN          NaN   \n",
       "std                     NaN          NaN    9059.854754    NaN          NaN   \n",
       "min                     NaN          NaN       1.000000    NaN          NaN   \n",
       "25%                     NaN          NaN    1200.000000    NaN          NaN   \n",
       "50%                     NaN          NaN    3000.000000    NaN          NaN   \n",
       "75%                     NaN          NaN    7490.000000    NaN          NaN   \n",
       "max                     NaN          NaN  350000.000000    NaN          NaN   \n",
       "\n",
       "        registration_year  gearbox      power_ps  model    odometer_km  \\\n",
       "count        48565.000000    46222  48565.000000  46107   48565.000000   \n",
       "unique                NaN        2           NaN    245            NaN   \n",
       "top                   NaN  manuell           NaN   golf            NaN   \n",
       "freq                  NaN    36102           NaN   3900            NaN   \n",
       "mean          2004.755421      NaN    117.197158    NaN  125770.101925   \n",
       "std             88.643887      NaN    200.649618    NaN   39788.636804   \n",
       "min           1000.000000      NaN      0.000000    NaN    5000.000000   \n",
       "25%           1999.000000      NaN     71.000000    NaN  125000.000000   \n",
       "50%           2004.000000      NaN    107.000000    NaN  150000.000000   \n",
       "75%           2008.000000      NaN    150.000000    NaN  150000.000000   \n",
       "max           9999.000000      NaN  17700.000000    NaN  150000.000000   \n",
       "\n",
       "        registration_month fuel_type       brand unrepaired_damage  \\\n",
       "count         48565.000000     44535       48565             39464   \n",
       "unique                 NaN         7          40                 2   \n",
       "top                    NaN    benzin  volkswagen              nein   \n",
       "freq                   NaN     29368       10336             34775   \n",
       "mean              5.782251       NaN         NaN               NaN   \n",
       "std               3.685595       NaN         NaN               NaN   \n",
       "min               0.000000       NaN         NaN               NaN   \n",
       "25%               3.000000       NaN         NaN               NaN   \n",
       "50%               6.000000       NaN         NaN               NaN   \n",
       "75%               9.000000       NaN         NaN               NaN   \n",
       "max              12.000000       NaN         NaN               NaN   \n",
       "\n",
       "                 ad_created   postal_code            last_seen  \n",
       "count                 48565  48565.000000                48565  \n",
       "unique                   76           NaN                38474  \n",
       "top     2016-04-03 00:00:00           NaN  2016-04-07 06:17:27  \n",
       "freq                   1887           NaN                    8  \n",
       "mean                    NaN  50975.745207                  NaN  \n",
       "std                     NaN  25746.968398                  NaN  \n",
       "min                     NaN   1067.000000                  NaN  \n",
       "25%                     NaN  30657.000000                  NaN  \n",
       "50%                     NaN  49716.000000                  NaN  \n",
       "75%                     NaN  71665.000000                  NaN  \n",
       "max                     NaN  99998.000000                  NaN  "
      ]
     },
     "execution_count": 25,
     "metadata": {},
     "output_type": "execute_result"
    }
   ],
   "source": [
    "autos.describe(include = 'all')"
   ]
  },
  {
   "cell_type": "markdown",
   "metadata": {},
   "source": [
    "Let's first understand how the values in the three string columns are formatted. These columns all represent full timestamp values."
   ]
  },
  {
   "cell_type": "code",
   "execution_count": 26,
   "metadata": {
    "collapsed": false
   },
   "outputs": [
    {
     "data": {
      "text/html": [
       "<div>\n",
       "<style scoped>\n",
       "    .dataframe tbody tr th:only-of-type {\n",
       "        vertical-align: middle;\n",
       "    }\n",
       "\n",
       "    .dataframe tbody tr th {\n",
       "        vertical-align: top;\n",
       "    }\n",
       "\n",
       "    .dataframe thead th {\n",
       "        text-align: right;\n",
       "    }\n",
       "</style>\n",
       "<table border=\"1\" class=\"dataframe\">\n",
       "  <thead>\n",
       "    <tr style=\"text-align: right;\">\n",
       "      <th></th>\n",
       "      <th>date_crawled</th>\n",
       "      <th>last_seen</th>\n",
       "      <th>ad_created</th>\n",
       "    </tr>\n",
       "  </thead>\n",
       "  <tbody>\n",
       "    <tr>\n",
       "      <th>0</th>\n",
       "      <td>2016-03-26 17:47:46</td>\n",
       "      <td>2016-04-06 06:45:54</td>\n",
       "      <td>2016-03-26 00:00:00</td>\n",
       "    </tr>\n",
       "    <tr>\n",
       "      <th>1</th>\n",
       "      <td>2016-04-04 13:38:56</td>\n",
       "      <td>2016-04-06 14:45:08</td>\n",
       "      <td>2016-04-04 00:00:00</td>\n",
       "    </tr>\n",
       "    <tr>\n",
       "      <th>2</th>\n",
       "      <td>2016-03-26 18:57:24</td>\n",
       "      <td>2016-04-06 20:15:37</td>\n",
       "      <td>2016-03-26 00:00:00</td>\n",
       "    </tr>\n",
       "    <tr>\n",
       "      <th>3</th>\n",
       "      <td>2016-03-12 16:58:10</td>\n",
       "      <td>2016-03-15 03:16:28</td>\n",
       "      <td>2016-03-12 00:00:00</td>\n",
       "    </tr>\n",
       "    <tr>\n",
       "      <th>4</th>\n",
       "      <td>2016-04-01 14:38:50</td>\n",
       "      <td>2016-04-01 14:38:50</td>\n",
       "      <td>2016-04-01 00:00:00</td>\n",
       "    </tr>\n",
       "  </tbody>\n",
       "</table>\n",
       "</div>"
      ],
      "text/plain": [
       "          date_crawled            last_seen           ad_created\n",
       "0  2016-03-26 17:47:46  2016-04-06 06:45:54  2016-03-26 00:00:00\n",
       "1  2016-04-04 13:38:56  2016-04-06 14:45:08  2016-04-04 00:00:00\n",
       "2  2016-03-26 18:57:24  2016-04-06 20:15:37  2016-03-26 00:00:00\n",
       "3  2016-03-12 16:58:10  2016-03-15 03:16:28  2016-03-12 00:00:00\n",
       "4  2016-04-01 14:38:50  2016-04-01 14:38:50  2016-04-01 00:00:00"
      ]
     },
     "execution_count": 26,
     "metadata": {},
     "output_type": "execute_result"
    }
   ],
   "source": [
    "autos[[\"date_crawled\", \"last_seen\", \"ad_created\"]][:5]"
   ]
  },
  {
   "cell_type": "markdown",
   "metadata": {},
   "source": [
    "You'll notice that the first 10 characters represent the day (e.g. 2016-03-12). To understand the date range, we can extract just the date values, use Series.value_counts() to generate a distribution, and then sort by the index.\n",
    "To select the first 10 characters in each column, we can use Series.str[:10]."
   ]
  },
  {
   "cell_type": "code",
   "execution_count": 27,
   "metadata": {
    "collapsed": false
   },
   "outputs": [
    {
     "name": "stdout",
     "output_type": "stream",
     "text": [
      "0        2016-03-26\n",
      "1        2016-04-04\n",
      "2        2016-03-26\n",
      "3        2016-03-12\n",
      "4        2016-04-01\n",
      "5        2016-03-21\n",
      "6        2016-03-20\n",
      "7        2016-03-16\n",
      "8        2016-03-22\n",
      "9        2016-03-16\n",
      "10       2016-03-15\n",
      "11       2016-03-16\n",
      "12       2016-03-31\n",
      "13       2016-03-23\n",
      "14       2016-03-23\n",
      "15       2016-04-01\n",
      "16       2016-03-16\n",
      "17       2016-03-29\n",
      "18       2016-03-26\n",
      "19       2016-03-17\n",
      "20       2016-03-05\n",
      "21       2016-03-06\n",
      "22       2016-03-28\n",
      "23       2016-03-10\n",
      "24       2016-04-03\n",
      "25       2016-03-21\n",
      "26       2016-04-03\n",
      "28       2016-03-19\n",
      "29       2016-04-02\n",
      "30       2016-03-14\n",
      "            ...    \n",
      "49968    2016-04-01\n",
      "49969    2016-03-17\n",
      "49970    2016-03-21\n",
      "49971    2016-03-29\n",
      "49972    2016-03-26\n",
      "49973    2016-03-27\n",
      "49975    2016-03-27\n",
      "49976    2016-03-19\n",
      "49977    2016-03-31\n",
      "49978    2016-04-04\n",
      "49979    2016-03-20\n",
      "49980    2016-03-12\n",
      "49981    2016-03-15\n",
      "49982    2016-03-29\n",
      "49983    2016-03-06\n",
      "49985    2016-04-02\n",
      "49986    2016-04-04\n",
      "49987    2016-03-22\n",
      "49988    2016-03-28\n",
      "49989    2016-03-11\n",
      "49990    2016-03-21\n",
      "49991    2016-03-06\n",
      "49992    2016-03-10\n",
      "49993    2016-03-15\n",
      "49994    2016-03-22\n",
      "49995    2016-03-27\n",
      "49996    2016-03-28\n",
      "49997    2016-04-02\n",
      "49998    2016-03-08\n",
      "49999    2016-03-14\n",
      "Name: date_crawled, Length: 48565, dtype: object\n"
     ]
    }
   ],
   "source": [
    "print(autos[\"date_crawled\"].str[:10])"
   ]
  },
  {
   "cell_type": "markdown",
   "metadata": {},
   "source": [
    "We now will calculate the distribution of values in all of the 3 string columns as percentages. Here we will include missing values in the distribution and to use percentages instead of counts."
   ]
  },
  {
   "cell_type": "code",
   "execution_count": 28,
   "metadata": {
    "collapsed": false
   },
   "outputs": [
    {
     "data": {
      "text/plain": [
       "2016-04-03    0.038608\n",
       "2016-03-20    0.037887\n",
       "2016-03-21    0.037373\n",
       "2016-03-12    0.036920\n",
       "2016-03-14    0.036549\n",
       "2016-04-04    0.036487\n",
       "2016-03-07    0.036014\n",
       "2016-04-02    0.035478\n",
       "2016-03-28    0.034860\n",
       "2016-03-19    0.034778\n",
       "2016-03-15    0.034284\n",
       "2016-03-29    0.034099\n",
       "2016-04-01    0.033687\n",
       "2016-03-30    0.033687\n",
       "2016-03-08    0.033296\n",
       "2016-03-09    0.033090\n",
       "2016-03-22    0.032987\n",
       "2016-03-11    0.032575\n",
       "2016-03-23    0.032225\n",
       "2016-03-26    0.032204\n",
       "2016-03-10    0.032184\n",
       "2016-03-31    0.031834\n",
       "2016-03-17    0.031628\n",
       "2016-03-25    0.031607\n",
       "2016-03-27    0.031092\n",
       "2016-03-16    0.029610\n",
       "2016-03-24    0.029342\n",
       "2016-03-05    0.025327\n",
       "2016-03-13    0.015670\n",
       "2016-03-06    0.014043\n",
       "2016-04-05    0.013096\n",
       "2016-03-18    0.012911\n",
       "2016-04-06    0.003171\n",
       "2016-04-07    0.001400\n",
       "Name: date_crawled, dtype: float64"
      ]
     },
     "execution_count": 28,
     "metadata": {},
     "output_type": "execute_result"
    }
   ],
   "source": [
    "autos[\"date_crawled\"].str[:10].value_counts(normalize = True, dropna = False)"
   ]
  },
  {
   "cell_type": "markdown",
   "metadata": {},
   "source": [
    "To rank by date in ascending order (earliest to latest), chain the Series.sort_index() method."
   ]
  },
  {
   "cell_type": "code",
   "execution_count": 29,
   "metadata": {
    "collapsed": false
   },
   "outputs": [
    {
     "data": {
      "text/plain": [
       "[2016-03-05    0.025327\n",
       " 2016-03-06    0.014043\n",
       " 2016-03-07    0.036014\n",
       " 2016-03-08    0.033296\n",
       " 2016-03-09    0.033090\n",
       " 2016-03-10    0.032184\n",
       " 2016-03-11    0.032575\n",
       " 2016-03-12    0.036920\n",
       " 2016-03-13    0.015670\n",
       " 2016-03-14    0.036549\n",
       " 2016-03-15    0.034284\n",
       " 2016-03-16    0.029610\n",
       " 2016-03-17    0.031628\n",
       " 2016-03-18    0.012911\n",
       " 2016-03-19    0.034778\n",
       " 2016-03-20    0.037887\n",
       " 2016-03-21    0.037373\n",
       " 2016-03-22    0.032987\n",
       " 2016-03-23    0.032225\n",
       " 2016-03-24    0.029342\n",
       " 2016-03-25    0.031607\n",
       " 2016-03-26    0.032204\n",
       " 2016-03-27    0.031092\n",
       " 2016-03-28    0.034860\n",
       " 2016-03-29    0.034099\n",
       " 2016-03-30    0.033687\n",
       " 2016-03-31    0.031834\n",
       " 2016-04-01    0.033687\n",
       " 2016-04-02    0.035478\n",
       " 2016-04-03    0.038608\n",
       " 2016-04-04    0.036487\n",
       " 2016-04-05    0.013096\n",
       " 2016-04-06    0.003171\n",
       " 2016-04-07    0.001400\n",
       " Name: date_crawled, dtype: float64]"
      ]
     },
     "execution_count": 29,
     "metadata": {},
     "output_type": "execute_result"
    }
   ],
   "source": [
    "[autos[\"date_crawled\"].\n",
    "                       str[:10].\n",
    "                       value_counts(normalize = True, dropna = False).\n",
    "                       sort_index(ascending = True)]"
   ]
  },
  {
   "cell_type": "code",
   "execution_count": 30,
   "metadata": {
    "collapsed": false
   },
   "outputs": [
    {
     "data": {
      "text/plain": [
       "[2016-04-07    0.001400\n",
       " 2016-04-06    0.003171\n",
       " 2016-03-18    0.012911\n",
       " 2016-04-05    0.013096\n",
       " 2016-03-06    0.014043\n",
       " 2016-03-13    0.015670\n",
       " 2016-03-05    0.025327\n",
       " 2016-03-24    0.029342\n",
       " 2016-03-16    0.029610\n",
       " 2016-03-27    0.031092\n",
       " 2016-03-25    0.031607\n",
       " 2016-03-17    0.031628\n",
       " 2016-03-31    0.031834\n",
       " 2016-03-10    0.032184\n",
       " 2016-03-26    0.032204\n",
       " 2016-03-23    0.032225\n",
       " 2016-03-11    0.032575\n",
       " 2016-03-22    0.032987\n",
       " 2016-03-09    0.033090\n",
       " 2016-03-08    0.033296\n",
       " 2016-03-30    0.033687\n",
       " 2016-04-01    0.033687\n",
       " 2016-03-29    0.034099\n",
       " 2016-03-15    0.034284\n",
       " 2016-03-19    0.034778\n",
       " 2016-03-28    0.034860\n",
       " 2016-04-02    0.035478\n",
       " 2016-03-07    0.036014\n",
       " 2016-04-04    0.036487\n",
       " 2016-03-14    0.036549\n",
       " 2016-03-12    0.036920\n",
       " 2016-03-21    0.037373\n",
       " 2016-03-20    0.037887\n",
       " 2016-04-03    0.038608\n",
       " Name: date_crawled, dtype: float64]"
      ]
     },
     "execution_count": 30,
     "metadata": {},
     "output_type": "execute_result"
    }
   ],
   "source": [
    "[autos[\"date_crawled\"].\n",
    "                       str[:10].\n",
    "                       value_counts(normalize = True, dropna = False).\n",
    "                       sort_values(ascending = True)]"
   ]
  },
  {
   "cell_type": "markdown",
   "metadata": {},
   "source": [
    "The results showed that all the information was crawled evenly between March 5th, 2016 and April 4th, 2016. The data crawled from April 5th, 2016 to April 7th, 2016 was less than before."
   ]
  },
  {
   "cell_type": "markdown",
   "metadata": {},
   "source": [
    "With the same method, we will analyze the \"last_seen\", and \"ad_created\" columns."
   ]
  },
  {
   "cell_type": "code",
   "execution_count": 31,
   "metadata": {
    "collapsed": false,
    "scrolled": true
   },
   "outputs": [
    {
     "data": {
      "text/plain": [
       "[2016-03-05    0.001071\n",
       " 2016-03-06    0.004324\n",
       " 2016-03-07    0.005395\n",
       " 2016-03-08    0.007413\n",
       " 2016-03-09    0.009595\n",
       " 2016-03-10    0.010666\n",
       " 2016-03-11    0.012375\n",
       " 2016-03-12    0.023783\n",
       " 2016-03-13    0.008895\n",
       " 2016-03-14    0.012602\n",
       " 2016-03-15    0.015876\n",
       " 2016-03-16    0.016452\n",
       " 2016-03-17    0.028086\n",
       " 2016-03-18    0.007351\n",
       " 2016-03-19    0.015834\n",
       " 2016-03-20    0.020653\n",
       " 2016-03-21    0.020632\n",
       " 2016-03-22    0.021373\n",
       " 2016-03-23    0.018532\n",
       " 2016-03-24    0.019767\n",
       " 2016-03-25    0.019211\n",
       " 2016-03-26    0.016802\n",
       " 2016-03-27    0.015649\n",
       " 2016-03-28    0.020859\n",
       " 2016-03-29    0.022341\n",
       " 2016-03-30    0.024771\n",
       " 2016-03-31    0.023783\n",
       " 2016-04-01    0.022794\n",
       " 2016-04-02    0.024915\n",
       " 2016-04-03    0.025203\n",
       " 2016-04-04    0.024483\n",
       " 2016-04-05    0.124761\n",
       " 2016-04-06    0.221806\n",
       " 2016-04-07    0.131947\n",
       " Name: last_seen, dtype: float64]"
      ]
     },
     "execution_count": 31,
     "metadata": {},
     "output_type": "execute_result"
    }
   ],
   "source": [
    "[autos['last_seen'].\n",
    "                str[:10].\n",
    "                value_counts(normalize = True, dropna = False).\n",
    "                sort_index(ascending = True)]"
   ]
  },
  {
   "cell_type": "code",
   "execution_count": 32,
   "metadata": {
    "collapsed": false
   },
   "outputs": [
    {
     "data": {
      "text/plain": [
       "[2016-03-05    0.001071\n",
       " 2016-03-06    0.004324\n",
       " 2016-03-07    0.005395\n",
       " 2016-03-18    0.007351\n",
       " 2016-03-08    0.007413\n",
       " 2016-03-13    0.008895\n",
       " 2016-03-09    0.009595\n",
       " 2016-03-10    0.010666\n",
       " 2016-03-11    0.012375\n",
       " 2016-03-14    0.012602\n",
       " 2016-03-27    0.015649\n",
       " 2016-03-19    0.015834\n",
       " 2016-03-15    0.015876\n",
       " 2016-03-16    0.016452\n",
       " 2016-03-26    0.016802\n",
       " 2016-03-23    0.018532\n",
       " 2016-03-25    0.019211\n",
       " 2016-03-24    0.019767\n",
       " 2016-03-21    0.020632\n",
       " 2016-03-20    0.020653\n",
       " 2016-03-28    0.020859\n",
       " 2016-03-22    0.021373\n",
       " 2016-03-29    0.022341\n",
       " 2016-04-01    0.022794\n",
       " 2016-03-12    0.023783\n",
       " 2016-03-31    0.023783\n",
       " 2016-04-04    0.024483\n",
       " 2016-03-30    0.024771\n",
       " 2016-04-02    0.024915\n",
       " 2016-04-03    0.025203\n",
       " 2016-03-17    0.028086\n",
       " 2016-04-05    0.124761\n",
       " 2016-04-07    0.131947\n",
       " 2016-04-06    0.221806\n",
       " Name: last_seen, dtype: float64]"
      ]
     },
     "execution_count": 32,
     "metadata": {},
     "output_type": "execute_result"
    }
   ],
   "source": [
    "[autos['last_seen'].\n",
    "                str[:10].\n",
    "                value_counts(normalize = True, dropna = False).\n",
    "                sort_values(ascending = True)]"
   ]
  },
  {
   "cell_type": "markdown",
   "metadata": {},
   "source": [
    "In contrast with \"date_crawled\" column, majority (~47%) of the listing were last seen between April 5th, 2016 and April 7th, 2016. However, we don't have any clue that whether those cars were selled, or those listing ads were removed by eBay."
   ]
  },
  {
   "cell_type": "code",
   "execution_count": 33,
   "metadata": {
    "collapsed": false
   },
   "outputs": [
    {
     "data": {
      "text/plain": [
       "[2015-06-11    0.000021\n",
       " 2015-08-10    0.000021\n",
       " 2015-09-09    0.000021\n",
       " 2015-11-10    0.000021\n",
       " 2015-12-05    0.000021\n",
       " 2015-12-30    0.000021\n",
       " 2016-01-03    0.000021\n",
       " 2016-01-07    0.000021\n",
       " 2016-01-10    0.000041\n",
       " 2016-01-13    0.000021\n",
       " 2016-01-14    0.000021\n",
       " 2016-01-16    0.000021\n",
       " 2016-01-22    0.000021\n",
       " 2016-01-27    0.000062\n",
       " 2016-01-29    0.000021\n",
       " 2016-02-01    0.000021\n",
       " 2016-02-02    0.000041\n",
       " 2016-02-05    0.000041\n",
       " 2016-02-07    0.000021\n",
       " 2016-02-08    0.000021\n",
       " 2016-02-09    0.000021\n",
       " 2016-02-11    0.000021\n",
       " 2016-02-12    0.000041\n",
       " 2016-02-14    0.000041\n",
       " 2016-02-16    0.000021\n",
       " 2016-02-17    0.000021\n",
       " 2016-02-18    0.000041\n",
       " 2016-02-19    0.000062\n",
       " 2016-02-20    0.000041\n",
       " 2016-02-21    0.000062\n",
       "                 ...   \n",
       " 2016-03-09    0.033151\n",
       " 2016-03-10    0.031895\n",
       " 2016-03-11    0.032904\n",
       " 2016-03-12    0.036755\n",
       " 2016-03-13    0.017008\n",
       " 2016-03-14    0.035190\n",
       " 2016-03-15    0.034016\n",
       " 2016-03-16    0.030125\n",
       " 2016-03-17    0.031278\n",
       " 2016-03-18    0.013590\n",
       " 2016-03-19    0.033687\n",
       " 2016-03-20    0.037949\n",
       " 2016-03-21    0.037579\n",
       " 2016-03-22    0.032801\n",
       " 2016-03-23    0.032060\n",
       " 2016-03-24    0.029280\n",
       " 2016-03-25    0.031751\n",
       " 2016-03-26    0.032266\n",
       " 2016-03-27    0.030989\n",
       " 2016-03-28    0.034984\n",
       " 2016-03-29    0.034037\n",
       " 2016-03-30    0.033501\n",
       " 2016-03-31    0.031875\n",
       " 2016-04-01    0.033687\n",
       " 2016-04-02    0.035149\n",
       " 2016-04-03    0.038855\n",
       " 2016-04-04    0.036858\n",
       " 2016-04-05    0.011819\n",
       " 2016-04-06    0.003253\n",
       " 2016-04-07    0.001256\n",
       " Name: ad_created, Length: 76, dtype: float64]"
      ]
     },
     "execution_count": 33,
     "metadata": {},
     "output_type": "execute_result"
    }
   ],
   "source": [
    "[autos['ad_created'].\n",
    "                     str[:10].\n",
    "                     value_counts(normalize = True, dropna = False).\n",
    "                     sort_index(ascending = True)]"
   ]
  },
  {
   "cell_type": "markdown",
   "metadata": {
    "collapsed": true
   },
   "source": [
    "We notice from the above result, most of the ads were created between the beginning of March 2016 and the beginning of April 2016. The oldest ads was about 10 months older than the newest one."
   ]
  },
  {
   "cell_type": "markdown",
   "metadata": {},
   "source": [
    "Let's explore numeric date data, like \"registration_year\"."
   ]
  },
  {
   "cell_type": "code",
   "execution_count": 34,
   "metadata": {
    "collapsed": false
   },
   "outputs": [
    {
     "data": {
      "text/plain": [
       "count    48565.000000\n",
       "mean      2004.755421\n",
       "std         88.643887\n",
       "min       1000.000000\n",
       "25%       1999.000000\n",
       "50%       2004.000000\n",
       "75%       2008.000000\n",
       "max       9999.000000\n",
       "Name: registration_year, dtype: float64"
      ]
     },
     "execution_count": 34,
     "metadata": {},
     "output_type": "execute_result"
    }
   ],
   "source": [
    "autos['registration_year'].describe()"
   ]
  },
  {
   "cell_type": "markdown",
   "metadata": {},
   "source": [
    "The year when a car was first registered referred to the car's age. There are some odd values here. The minimum was 1000, which is even earlier than the time when cars were invented. The maximum was 9999, which was far in the future. Next, we will deal with these incorrect values.\n",
    "\n",
    "Our data was crawled in 2016. Because a car can't be first registered after the listing was seen, any vehicle with a registration year later than 2016 is definitely inaccurate. Determining the earliest valid year is more difficult. Realistically, it could be somewhere in the first few decades of the 1900s.\n",
    "\n",
    "Let's count the number of listings with cars that fall outside the 1900 - 2016 interval and see if it's safe to remove those rows entirely, or if we need more custom logic.\n"
   ]
  },
  {
   "cell_type": "code",
   "execution_count": 35,
   "metadata": {
    "collapsed": false
   },
   "outputs": [
    {
     "data": {
      "text/plain": [
       "[1910    0.000107\n",
       " 1927    0.000021\n",
       " 1929    0.000021\n",
       " 1931    0.000021\n",
       " 1934    0.000043\n",
       " 1937    0.000086\n",
       " 1938    0.000021\n",
       " 1939    0.000021\n",
       " 1941    0.000043\n",
       " 1943    0.000021\n",
       " 1948    0.000021\n",
       " 1950    0.000064\n",
       " 1951    0.000043\n",
       " 1952    0.000021\n",
       " 1953    0.000021\n",
       " 1954    0.000043\n",
       " 1955    0.000043\n",
       " 1956    0.000086\n",
       " 1957    0.000043\n",
       " 1958    0.000086\n",
       " 1959    0.000129\n",
       " 1960    0.000493\n",
       " 1961    0.000129\n",
       " 1962    0.000086\n",
       " 1963    0.000171\n",
       " 1964    0.000257\n",
       " 1965    0.000364\n",
       " 1966    0.000471\n",
       " 1967    0.000557\n",
       " 1968    0.000557\n",
       "           ...   \n",
       " 1987    0.001542\n",
       " 1988    0.002892\n",
       " 1989    0.003727\n",
       " 1990    0.007433\n",
       " 1991    0.007262\n",
       " 1992    0.007926\n",
       " 1993    0.009104\n",
       " 1994    0.013474\n",
       " 1995    0.026285\n",
       " 1996    0.029412\n",
       " 1997    0.041794\n",
       " 1998    0.050620\n",
       " 1999    0.062060\n",
       " 2000    0.067608\n",
       " 2001    0.056468\n",
       " 2002    0.053255\n",
       " 2003    0.057818\n",
       " 2004    0.057904\n",
       " 2005    0.062895\n",
       " 2006    0.057197\n",
       " 2007    0.048778\n",
       " 2008    0.047450\n",
       " 2009    0.044665\n",
       " 2010    0.034040\n",
       " 2011    0.034768\n",
       " 2012    0.028063\n",
       " 2013    0.017202\n",
       " 2014    0.014203\n",
       " 2015    0.008397\n",
       " 2016    0.026135\n",
       " Name: registration_year, Length: 78, dtype: float64]"
      ]
     },
     "execution_count": 35,
     "metadata": {},
     "output_type": "execute_result"
    }
   ],
   "source": [
    "[autos[autos['registration_year'].between(1900,2016)]['registration_year'].\n",
    "                                            value_counts(normalize = True).\n",
    "                                            sort_index(ascending = True)]"
   ]
  },
  {
   "cell_type": "code",
   "execution_count": 36,
   "metadata": {
    "collapsed": false
   },
   "outputs": [
    {
     "data": {
      "text/plain": [
       "0.038793369710697"
      ]
     },
     "execution_count": 36,
     "metadata": {},
     "output_type": "execute_result"
    }
   ],
   "source": [
    "(~autos['registration_year'].between(1900, 2016)).sum()/autos.shape[0]"
   ]
  },
  {
   "cell_type": "markdown",
   "metadata": {},
   "source": [
    "The percentages of the cars registered before 1990 were very small. Fewer cars were registered before 1958. That means it is reasonable to remove those  \n",
    "cars registered before 1900."
   ]
  },
  {
   "cell_type": "code",
   "execution_count": 37,
   "metadata": {
    "collapsed": false
   },
   "outputs": [
    {
     "data": {
      "text/html": [
       "<div>\n",
       "<style scoped>\n",
       "    .dataframe tbody tr th:only-of-type {\n",
       "        vertical-align: middle;\n",
       "    }\n",
       "\n",
       "    .dataframe tbody tr th {\n",
       "        vertical-align: top;\n",
       "    }\n",
       "\n",
       "    .dataframe thead th {\n",
       "        text-align: right;\n",
       "    }\n",
       "</style>\n",
       "<table border=\"1\" class=\"dataframe\">\n",
       "  <thead>\n",
       "    <tr style=\"text-align: right;\">\n",
       "      <th></th>\n",
       "      <th>price_usd</th>\n",
       "      <th>registration_year</th>\n",
       "      <th>power_ps</th>\n",
       "      <th>odometer_km</th>\n",
       "      <th>registration_month</th>\n",
       "      <th>postal_code</th>\n",
       "    </tr>\n",
       "  </thead>\n",
       "  <tbody>\n",
       "    <tr>\n",
       "      <th>count</th>\n",
       "      <td>46681.000000</td>\n",
       "      <td>46681.000000</td>\n",
       "      <td>46681.000000</td>\n",
       "      <td>46681.000000</td>\n",
       "      <td>46681.000000</td>\n",
       "      <td>46681.000000</td>\n",
       "    </tr>\n",
       "    <tr>\n",
       "      <th>mean</th>\n",
       "      <td>5977.716801</td>\n",
       "      <td>2002.910756</td>\n",
       "      <td>117.892933</td>\n",
       "      <td>125586.855466</td>\n",
       "      <td>5.827125</td>\n",
       "      <td>51097.434181</td>\n",
       "    </tr>\n",
       "    <tr>\n",
       "      <th>std</th>\n",
       "      <td>9177.909479</td>\n",
       "      <td>7.185103</td>\n",
       "      <td>184.922911</td>\n",
       "      <td>39852.528628</td>\n",
       "      <td>3.670300</td>\n",
       "      <td>25755.387192</td>\n",
       "    </tr>\n",
       "    <tr>\n",
       "      <th>min</th>\n",
       "      <td>1.000000</td>\n",
       "      <td>1910.000000</td>\n",
       "      <td>0.000000</td>\n",
       "      <td>5000.000000</td>\n",
       "      <td>0.000000</td>\n",
       "      <td>1067.000000</td>\n",
       "    </tr>\n",
       "    <tr>\n",
       "      <th>25%</th>\n",
       "      <td>1250.000000</td>\n",
       "      <td>1999.000000</td>\n",
       "      <td>75.000000</td>\n",
       "      <td>100000.000000</td>\n",
       "      <td>3.000000</td>\n",
       "      <td>30827.000000</td>\n",
       "    </tr>\n",
       "    <tr>\n",
       "      <th>50%</th>\n",
       "      <td>3100.000000</td>\n",
       "      <td>2003.000000</td>\n",
       "      <td>109.000000</td>\n",
       "      <td>150000.000000</td>\n",
       "      <td>6.000000</td>\n",
       "      <td>49828.000000</td>\n",
       "    </tr>\n",
       "    <tr>\n",
       "      <th>75%</th>\n",
       "      <td>7500.000000</td>\n",
       "      <td>2008.000000</td>\n",
       "      <td>150.000000</td>\n",
       "      <td>150000.000000</td>\n",
       "      <td>9.000000</td>\n",
       "      <td>71732.000000</td>\n",
       "    </tr>\n",
       "    <tr>\n",
       "      <th>max</th>\n",
       "      <td>350000.000000</td>\n",
       "      <td>2016.000000</td>\n",
       "      <td>17700.000000</td>\n",
       "      <td>150000.000000</td>\n",
       "      <td>12.000000</td>\n",
       "      <td>99998.000000</td>\n",
       "    </tr>\n",
       "  </tbody>\n",
       "</table>\n",
       "</div>"
      ],
      "text/plain": [
       "           price_usd  registration_year      power_ps    odometer_km  \\\n",
       "count   46681.000000       46681.000000  46681.000000   46681.000000   \n",
       "mean     5977.716801        2002.910756    117.892933  125586.855466   \n",
       "std      9177.909479           7.185103    184.922911   39852.528628   \n",
       "min         1.000000        1910.000000      0.000000    5000.000000   \n",
       "25%      1250.000000        1999.000000     75.000000  100000.000000   \n",
       "50%      3100.000000        2003.000000    109.000000  150000.000000   \n",
       "75%      7500.000000        2008.000000    150.000000  150000.000000   \n",
       "max    350000.000000        2016.000000  17700.000000  150000.000000   \n",
       "\n",
       "       registration_month   postal_code  \n",
       "count        46681.000000  46681.000000  \n",
       "mean             5.827125  51097.434181  \n",
       "std              3.670300  25755.387192  \n",
       "min              0.000000   1067.000000  \n",
       "25%              3.000000  30827.000000  \n",
       "50%              6.000000  49828.000000  \n",
       "75%              9.000000  71732.000000  \n",
       "max             12.000000  99998.000000  "
      ]
     },
     "execution_count": 37,
     "metadata": {},
     "output_type": "execute_result"
    }
   ],
   "source": [
    "#Remove the rows with registration year earlier than 1900 or later than 2016.\n",
    "autos = autos[autos['registration_year'].between(1900, 2016)]\n",
    "#Check the registration year in the new dataframe.\n",
    "autos.describe()"
   ]
  },
  {
   "cell_type": "markdown",
   "metadata": {},
   "source": [
    "With the same method, we will clean \"registration_month\" column."
   ]
  },
  {
   "cell_type": "code",
   "execution_count": 38,
   "metadata": {
    "collapsed": false
   },
   "outputs": [
    {
     "data": {
      "text/plain": [
       "[0     0.086245\n",
       " 1     0.066515\n",
       " 2     0.061053\n",
       " 3     0.103640\n",
       " 4     0.083417\n",
       " 5     0.083053\n",
       " 6     0.088237\n",
       " 7     0.079733\n",
       " 8     0.064716\n",
       " 9     0.069472\n",
       " 10    0.074870\n",
       " 11    0.069172\n",
       " 12    0.069879\n",
       " Name: registration_month, dtype: float64]"
      ]
     },
     "execution_count": 38,
     "metadata": {},
     "output_type": "execute_result"
    }
   ],
   "source": [
    "#Check the descriptive information of \"registration_month\" column.\n",
    "[autos['registration_month'].\n",
    "                     value_counts(normalize = True, dropna = False).\n",
    "                     sort_index(ascending = True)]"
   ]
  },
  {
   "cell_type": "markdown",
   "metadata": {},
   "source": [
    "Cars were about registered evenly in each month. 8% of the data has 0 as register month. We will keep these data, and change the value of registration month into NaN."
   ]
  },
  {
   "cell_type": "code",
   "execution_count": 39,
   "metadata": {
    "collapsed": false
   },
   "outputs": [],
   "source": [
    "autos.loc[autos['registration_month']==0, 'registration_month'] = np.nan"
   ]
  },
  {
   "cell_type": "code",
   "execution_count": 40,
   "metadata": {
    "collapsed": false
   },
   "outputs": [
    {
     "data": {
      "text/plain": [
       "[ 1.0     0.066515\n",
       "  2.0     0.061053\n",
       "  3.0     0.103640\n",
       "  4.0     0.083417\n",
       "  5.0     0.083053\n",
       "  6.0     0.088237\n",
       "  7.0     0.079733\n",
       "  8.0     0.064716\n",
       "  9.0     0.069472\n",
       "  10.0    0.074870\n",
       "  11.0    0.069172\n",
       "  12.0    0.069879\n",
       " NaN      0.086245\n",
       " Name: registration_month, dtype: float64]"
      ]
     },
     "execution_count": 40,
     "metadata": {},
     "output_type": "execute_result"
    }
   ],
   "source": [
    "#Check the descriptive information of \"registration_month\" column again.\n",
    "[autos['registration_month'].\n",
    "                     value_counts(normalize = True, dropna = False).\n",
    "                     sort_index(ascending = True)]"
   ]
  },
  {
   "cell_type": "markdown",
   "metadata": {},
   "source": [
    "## Exploring price by brand"
   ]
  },
  {
   "cell_type": "markdown",
   "metadata": {},
   "source": [
    "When working with data on cars, it's natural to explore variations across different car brands. We can use aggregation to understand the brand column.\n",
    "\n",
    "Let's explore the unique values in the brand column, and decide on which brands we want to aggregate by."
   ]
  },
  {
   "cell_type": "code",
   "execution_count": 41,
   "metadata": {
    "collapsed": false
   },
   "outputs": [
    {
     "data": {
      "text/plain": [
       "array(['peugeot', 'bmw', 'volkswagen', 'smart', 'ford', 'chrysler',\n",
       "       'seat', 'renault', 'mercedes_benz', 'audi', 'sonstige_autos',\n",
       "       'opel', 'mazda', 'porsche', 'mini', 'toyota', 'dacia', 'nissan',\n",
       "       'jeep', 'saab', 'volvo', 'mitsubishi', 'jaguar', 'fiat', 'skoda',\n",
       "       'subaru', 'kia', 'citroen', 'chevrolet', 'hyundai', 'honda',\n",
       "       'daewoo', 'suzuki', 'trabant', 'land_rover', 'alfa_romeo', 'lada',\n",
       "       'rover', 'daihatsu', 'lancia'], dtype=object)"
      ]
     },
     "execution_count": 41,
     "metadata": {},
     "output_type": "execute_result"
    }
   ],
   "source": [
    "autos['brand'].unique()"
   ]
  },
  {
   "cell_type": "code",
   "execution_count": 42,
   "metadata": {
    "collapsed": false
   },
   "outputs": [
    {
     "data": {
      "text/plain": [
       "volkswagen        0.211264\n",
       "bmw               0.110045\n",
       "opel              0.107581\n",
       "mercedes_benz     0.096463\n",
       "audi              0.086566\n",
       "ford              0.069900\n",
       "renault           0.047150\n",
       "peugeot           0.029841\n",
       "fiat              0.025642\n",
       "seat              0.018273\n",
       "skoda             0.016409\n",
       "nissan            0.015274\n",
       "mazda             0.015188\n",
       "smart             0.014160\n",
       "citroen           0.014010\n",
       "toyota            0.012703\n",
       "hyundai           0.010025\n",
       "sonstige_autos    0.009811\n",
       "volvo             0.009147\n",
       "mini              0.008762\n",
       "mitsubishi        0.008226\n",
       "honda             0.007840\n",
       "kia               0.007069\n",
       "alfa_romeo        0.006641\n",
       "porsche           0.006127\n",
       "suzuki            0.005934\n",
       "chevrolet         0.005698\n",
       "chrysler          0.003513\n",
       "dacia             0.002635\n",
       "daihatsu          0.002506\n",
       "jeep              0.002271\n",
       "subaru            0.002142\n",
       "land_rover        0.002099\n",
       "saab              0.001649\n",
       "jaguar            0.001564\n",
       "daewoo            0.001500\n",
       "trabant           0.001392\n",
       "rover             0.001328\n",
       "lancia            0.001071\n",
       "lada              0.000578\n",
       "Name: brand, dtype: float64"
      ]
     },
     "execution_count": 42,
     "metadata": {},
     "output_type": "execute_result"
    }
   ],
   "source": [
    "autos['brand'].value_counts(normalize = True)"
   ]
  },
  {
   "cell_type": "markdown",
   "metadata": {},
   "source": [
    "We are interested in the average prices of the top 20 brands. Now we will aggregate on the top 20 brands. "
   ]
  },
  {
   "cell_type": "code",
   "execution_count": 43,
   "metadata": {
    "collapsed": false
   },
   "outputs": [
    {
     "name": "stdout",
     "output_type": "stream",
     "text": [
      "Index(['volkswagen', 'bmw', 'opel', 'mercedes_benz', 'audi', 'ford', 'renault',\n",
      "       'peugeot', 'fiat', 'seat', 'skoda', 'nissan', 'mazda', 'smart',\n",
      "       'citroen', 'toyota', 'hyundai', 'sonstige_autos', 'volvo', 'mini'],\n",
      "      dtype='object')\n"
     ]
    }
   ],
   "source": [
    "#Creat a list of the top 20 brands we will work on.\n",
    "brands = []\n",
    "brands = autos['brand'].value_counts(normalize = True).head(20).index\n",
    "print(brands)"
   ]
  },
  {
   "cell_type": "code",
   "execution_count": 44,
   "metadata": {
    "collapsed": false
   },
   "outputs": [
    {
     "name": "stdout",
     "output_type": "stream",
     "text": [
      "{'volkswagen': 5402, 'mini': 10613, 'toyota': 5167, 'opel': 2975, 'ford': 3749, 'mazda': 4112, 'audi': 9336, 'fiat': 2813, 'smart': 3580, 'bmw': 8332, 'sonstige_autos': 12338, 'seat': 4397, 'peugeot': 3094, 'citroen': 3779, 'mercedes_benz': 8628, 'skoda': 6368, 'nissan': 4743, 'volvo': 4946, 'renault': 2474, 'hyundai': 5365}\n"
     ]
    }
   ],
   "source": [
    "#Loop through the brands list, and calculate average prices for each brand.\n",
    "avg_price_by_brand = {}\n",
    "for b in brands:\n",
    "    selected_rows = autos[autos['brand']==b]\n",
    "    average = int(selected_rows['price_usd'].mean())\n",
    "    avg_price_by_brand[b] = average\n",
    "print(avg_price_by_brand)"
   ]
  },
  {
   "cell_type": "markdown",
   "metadata": {},
   "source": [
    "Here are several observations we can make from the results:\n",
    "\n",
    "   + Sonstige_autos, Mini, Audi, Mercedes_benz and BMW are the most expensive cars with prices more than $8000;\n",
    "    \n",
    "   + Renault, Fiat, Opel and Peugeot are the cheapest cars with prices around $3000;\n",
    "    \n",
    "   + Most popular brands, like Volkswagen, Nissan, Volvo, Mazda, Hyundai, and Toyota are selled at prices around $5000."
   ]
  },
  {
   "cell_type": "markdown",
   "metadata": {
    "collapsed": true
   },
   "source": [
    "Another aspect to consider when we purchase a used car is milage. So next we will calculate the average milages of each brand in our brand list."
   ]
  },
  {
   "cell_type": "code",
   "execution_count": 45,
   "metadata": {
    "collapsed": false
   },
   "outputs": [
    {
     "name": "stdout",
     "output_type": "stream",
     "text": [
      "{'volkswagen': 128707, 'mini': 88105, 'toyota': 115944, 'opel': 129310, 'ford': 124266, 'mazda': 124464, 'audi': 129157, 'fiat': 117121, 'smart': 99326, 'bmw': 132572, 'sonstige_autos': 89956, 'seat': 121131, 'peugeot': 127153, 'citroen': 119694, 'mercedes_benz': 130788, 'skoda': 110848, 'nissan': 118330, 'volvo': 138067, 'renault': 128071, 'hyundai': 106442}\n"
     ]
    }
   ],
   "source": [
    "#Loop through the brands list, and calculate average milage for each brand.\n",
    "avg_milage_by_brand = {}\n",
    "for b in brands:\n",
    "    selected_rows = autos[autos['brand']==b]\n",
    "    average = int(selected_rows['odometer_km'].mean())\n",
    "    avg_milage_by_brand[b] = average\n",
    "print(avg_milage_by_brand)"
   ]
  },
  {
   "cell_type": "markdown",
   "metadata": {},
   "source": [
    "## Storing aggregate data in a new dataframe\n",
    "\n",
    "For the top 20 brands, let's use aggregation to understand the average mileage for those cars and if there's any visible link with mean price. While our natural instinct may be to display both aggregated series objects and visually compare them, this has a few limitations. It's difficult to compare more than two aggregate series objects if we want to extend to more columns. we can't compare more than a few rows from each series object. \n",
    "\n",
    "Instead, we can combine the data from both series objects into a single dataframe (with a shared index) and display the dataframe directly."
   ]
  },
  {
   "cell_type": "code",
   "execution_count": 46,
   "metadata": {
    "collapsed": false
   },
   "outputs": [
    {
     "name": "stdout",
     "output_type": "stream",
     "text": [
      "audi               9336\n",
      "bmw                8332\n",
      "citroen            3779\n",
      "fiat               2813\n",
      "ford               3749\n",
      "hyundai            5365\n",
      "mazda              4112\n",
      "mercedes_benz      8628\n",
      "mini              10613\n",
      "nissan             4743\n",
      "opel               2975\n",
      "peugeot            3094\n",
      "renault            2474\n",
      "seat               4397\n",
      "skoda              6368\n",
      "smart              3580\n",
      "sonstige_autos    12338\n",
      "toyota             5167\n",
      "volkswagen         5402\n",
      "volvo              4946\n",
      "dtype: int64\n",
      "audi              129157\n",
      "bmw               132572\n",
      "citroen           119694\n",
      "fiat              117121\n",
      "ford              124266\n",
      "hyundai           106442\n",
      "mazda             124464\n",
      "mercedes_benz     130788\n",
      "mini               88105\n",
      "nissan            118330\n",
      "opel              129310\n",
      "peugeot           127153\n",
      "renault           128071\n",
      "seat              121131\n",
      "skoda             110848\n",
      "smart              99326\n",
      "sonstige_autos     89956\n",
      "toyota            115944\n",
      "volkswagen        128707\n",
      "volvo             138067\n",
      "dtype: int64\n"
     ]
    }
   ],
   "source": [
    "#Convert both dictionaries to series objects, using the series constructor.\n",
    "apb_series = pd.Series(avg_price_by_brand)\n",
    "amb_series = pd.Series(avg_milage_by_brand)\n",
    "print(apb_series)\n",
    "print(amb_series)"
   ]
  },
  {
   "cell_type": "code",
   "execution_count": 47,
   "metadata": {
    "collapsed": false
   },
   "outputs": [
    {
     "name": "stdout",
     "output_type": "stream",
     "text": [
      "                avg_price\n",
      "audi                 9336\n",
      "bmw                  8332\n",
      "citroen              3779\n",
      "fiat                 2813\n",
      "ford                 3749\n",
      "hyundai              5365\n",
      "mazda                4112\n",
      "mercedes_benz        8628\n",
      "mini                10613\n",
      "nissan               4743\n",
      "opel                 2975\n",
      "peugeot              3094\n",
      "renault              2474\n",
      "seat                 4397\n",
      "skoda                6368\n",
      "smart                3580\n",
      "sonstige_autos      12338\n",
      "toyota               5167\n",
      "volkswagen           5402\n",
      "volvo                4946\n"
     ]
    }
   ],
   "source": [
    "#Create a dataframe from the first series object using the dataframe constructor.\n",
    "avg_price_milage_brand = pd.DataFrame(apb_series, columns = ['avg_price'])\n",
    "print(avg_price_milage_brand)"
   ]
  },
  {
   "cell_type": "code",
   "execution_count": 48,
   "metadata": {
    "collapsed": false
   },
   "outputs": [
    {
     "name": "stdout",
     "output_type": "stream",
     "text": [
      "                avg_price  avg_milage\n",
      "audi                 9336      129157\n",
      "bmw                  8332      132572\n",
      "citroen              3779      119694\n",
      "fiat                 2813      117121\n",
      "ford                 3749      124266\n",
      "hyundai              5365      106442\n",
      "mazda                4112      124464\n",
      "mercedes_benz        8628      130788\n",
      "mini                10613       88105\n",
      "nissan               4743      118330\n",
      "opel                 2975      129310\n",
      "peugeot              3094      127153\n",
      "renault              2474      128071\n",
      "seat                 4397      121131\n",
      "skoda                6368      110848\n",
      "smart                3580       99326\n",
      "sonstige_autos      12338       89956\n",
      "toyota               5167      115944\n",
      "volkswagen           5402      128707\n",
      "volvo                4946      138067\n"
     ]
    }
   ],
   "source": [
    "#Assign the other series as a new column in this dataframe.\n",
    "avg_price_milage_brand['avg_milage'] = amb_series\n",
    "print(avg_price_milage_brand)"
   ]
  },
  {
   "cell_type": "markdown",
   "metadata": {},
   "source": [
    "After building such a dataframe, we can compare different brands from different aspects. Among the cars in the same level, there is a trend that  the cars with the less milages is more expensive."
   ]
  }
 ],
 "metadata": {
  "kernelspec": {
   "display_name": "Python 3",
   "language": "python",
   "name": "python3"
  },
  "language_info": {
   "codemirror_mode": {
    "name": "ipython",
    "version": 3
   },
   "file_extension": ".py",
   "mimetype": "text/x-python",
   "name": "python",
   "nbconvert_exporter": "python",
   "pygments_lexer": "ipython3",
   "version": "3.4.3"
  }
 },
 "nbformat": 4,
 "nbformat_minor": 2
}
